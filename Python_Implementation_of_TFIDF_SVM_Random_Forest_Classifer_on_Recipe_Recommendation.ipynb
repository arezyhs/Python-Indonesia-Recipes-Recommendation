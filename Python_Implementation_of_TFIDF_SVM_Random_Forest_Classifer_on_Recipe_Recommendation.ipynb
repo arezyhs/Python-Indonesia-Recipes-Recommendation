{
  "nbformat": 4,
  "nbformat_minor": 0,
  "metadata": {
    "colab": {
      "provenance": [],
      "authorship_tag": "ABX9TyOYLTG8lziOITPOLt9ThgtJ",
      "include_colab_link": true
    },
    "kernelspec": {
      "name": "python3",
      "display_name": "Python 3"
    },
    "language_info": {
      "name": "python"
    },
    "widgets": {
      "application/vnd.jupyter.widget-state+json": {
        "fb62b75f01414522ad876d1b7118df58": {
          "model_module": "@jupyter-widgets/controls",
          "model_name": "VBoxModel",
          "model_module_version": "1.5.0",
          "state": {
            "_dom_classes": [
              "widget-interact"
            ],
            "_model_module": "@jupyter-widgets/controls",
            "_model_module_version": "1.5.0",
            "_model_name": "VBoxModel",
            "_view_count": null,
            "_view_module": "@jupyter-widgets/controls",
            "_view_module_version": "1.5.0",
            "_view_name": "VBoxView",
            "box_style": "",
            "children": [
              "IPY_MODEL_ab855eac78de4c63953a42a94bc647d5",
              "IPY_MODEL_f481c044b0d84496bb8311bf2429e7f5"
            ],
            "layout": "IPY_MODEL_569e0cab9b1347f89e5ea445d3813b70"
          }
        },
        "ab855eac78de4c63953a42a94bc647d5": {
          "model_module": "@jupyter-widgets/controls",
          "model_name": "TextModel",
          "model_module_version": "1.5.0",
          "state": {
            "_dom_classes": [],
            "_model_module": "@jupyter-widgets/controls",
            "_model_module_version": "1.5.0",
            "_model_name": "TextModel",
            "_view_count": null,
            "_view_module": "@jupyter-widgets/controls",
            "_view_module_version": "1.5.0",
            "_view_name": "TextView",
            "continuous_update": true,
            "description": "query",
            "description_tooltip": null,
            "disabled": false,
            "layout": "IPY_MODEL_5696271f649245d4b2369af5a30bde2a",
            "placeholder": "​",
            "style": "IPY_MODEL_81ceb79e372843a0969741a9b16ab808",
            "value": "Ayam Goreng"
          }
        },
        "f481c044b0d84496bb8311bf2429e7f5": {
          "model_module": "@jupyter-widgets/output",
          "model_name": "OutputModel",
          "model_module_version": "1.0.0",
          "state": {
            "_dom_classes": [],
            "_model_module": "@jupyter-widgets/output",
            "_model_module_version": "1.0.0",
            "_model_name": "OutputModel",
            "_view_count": null,
            "_view_module": "@jupyter-widgets/output",
            "_view_module_version": "1.0.0",
            "_view_name": "OutputView",
            "layout": "IPY_MODEL_43e72d8f3a4f4d12bfc163fcd4ddae3d",
            "msg_id": "",
            "outputs": [
              {
                "output_type": "stream",
                "name": "stdout",
                "text": [
                  "Rekomendasi resep:\n",
                  "\n",
                  "========================================\n",
                  "AYAM GORENG SAMBAL PENYET ALA KADAR\n",
                  "Similarity Score: 0.5649\n",
                  "\n",
                  "Bahan-bahan:\n",
                  "1 kg ayam potong sesuai selera- 1 bungkus racik ayam goreng- Bumbu sambal- 3 siung bawang putih- 5 buah bawang merah- 20 buah cabe rawit- 5 buah cabe merah besar- secukupnya Garam- 5 sdm minyak goreng- \n",
                  "\n",
                  "Langkah-langkah:\n",
                  "1) Potong ayam sesuai selera, cuci bersih, tiriskan\n",
                  "2) Rebus ayam bersamaan dengan bumbu racik ayam goreng\n",
                  "3) Sambal; panaskan minyak goreng, goreng sebentar cabe dan bawang., tiriskan lalu ulek cabe dan bawang, tambahkan garam.,lalu tuang 5sdm minyak sisa goreng bumbu..tes rasa\n",
                  "4) Goreng ayam yang sudah direbus sampai kecoklatan, angkat lalu penyet ayamnya..tuangi sambal di atas ayam\n",
                  "\n",
                  "\n",
                  "========================================\n",
                  "AYAM BUMBU BALADO SIMPLE\n",
                  "Similarity Score: 0.5615\n",
                  "\n",
                  "Bahan-bahan:\n",
                  "1 kg ayam- Bumbu halus :- 10 buah cabe merah keriting- 10 buah cabe rawit- 5 siung bawang putih- 7 siung bawang merah- 2 buah tomat ukuran sedang- Secukupnya gula garam penyedap- Minyak goreng- Air- \n",
                  "\n",
                  "Langkah-langkah:\n",
                  "1) Cuci bersih ayam, rebus sampai matang.\n",
                  "2) Goreng ayam.\n",
                  "3) Haluskan semua bumbu.\n",
                  "4) Panaskan sedikit minyak, tumis bumbu sampai harum.\n",
                  "5) Tambahkan sedikit air, tunggu mendidih lalu masukkan ayam goreng.\n",
                  "6) Tambahkan gula garam dan penyedap. Koreksi rasa.\n",
                  "7) Ayam bumbu balado siap dihidangkan, selamat mencoba\n",
                  "\n",
                  "\n",
                  "========================================\n",
                  "AYAM GEPREK SUPER SIMPLE ALA ANAK KOS\n",
                  "Similarity Score: 0.5541\n",
                  "\n",
                  "Bahan-bahan:\n",
                  "1/4 dada ayam- tepung crispy kobe- lada bubuk- 4 buah cabai rawit setan- sedikit bawang putih- minyak untuk goreng ayam- \n",
                  "\n",
                  "Langkah-langkah:\n",
                  "1) Cuci ayam sampai bersih\n",
                  "2) Lumuri ayam dengan lada bubuk secukupnya\n",
                  "3) Buat adonan basah larutkan 1 sdm tepung crispy kemudian celupkan ayam\n",
                  "4) Gulingkan ayam yang sudah di dimasukan kedalam adonan basah kedalam tepung kering bolak balik sambil dicubit ringan\n",
                  "5) Goreng didalam minyak panas sampai menutupi semua ayam..tunggu ayam sampai berwarna kuning keemasan kemudian angkat\n",
                  "6) Geprek : cabe, bawang putih, garam sedikit haluskan didalam cobek, masukan ayam kemudian geprek dan ayam bolak balik sampai tercampur rata dan ayam sedikit hancur\n",
                  "7) Ayam geprek siap dinikmati\n",
                  "\n",
                  "\n",
                  "========================================\n",
                  "AYAM GEPREK\n",
                  "Similarity Score: 0.5513\n",
                  "\n",
                  "Bahan-bahan:\n",
                  "4 potong ayam- 8 siung bawang putih dihaluskan- 4 sdm tepung terigu- 1 sdm tepung maizena- Secukupnya garam- Secukupnya merica- Secukupnya kaldu ayam bubuk- 1 butir telur- Bahan geprek- 4 siung bawang putih- 10 buah cabe rawit- 1 sdt garam- 1 sdt gula- \n",
                  "\n",
                  "Langkah-langkah:\n",
                  "1) Haluskan bawang putih, lalu tambahkan garam, merica, serta kaldu ayam bubuk. Setelah semuanya tercampur rata, sirami di atas ayam. Aduk2 hingga semua ayam diyakin terkena bumbu. Diamkan beberapa menit-jam hingga bumbu benar2 meresap ke dalam ayam (saya mendiamkan selama kurang lebih 30 menit).\n",
                  "2) Lalu, balurkan telur di dalam adonan ayam, aduk rata.\n",
                  "3) Di wadah lain, campurkan tepung terigu dan tepung maizena. Masukkan adonan ayam tadi ke dalam campuran tepung. Tekan2 dan bolak balikkan ayam hingga tercampur rata dengan adonan tepung.\n",
                  "4) Panaskan minyak lalu goreng ayam dengan api kecil. Tunggu hingga ayam kecoklatan. Jika sudah, angkat, lalu tiriskan.\n",
                  "5) Rebus bawang putih serta cabe rawit. Pindahkan ke wadah ulekan, tambahkan gula serta garam, lalu ulek.\n",
                  "6) Pindahkan ayam ke dalam sambal. Geprek2 ayam di atas sambal.\n",
                  "7) Ayam geprek siap disajikan\n",
                  "\n",
                  "\n",
                  "========================================\n",
                  "AYAM FILLET CRISPY\n",
                  "Similarity Score: 0.5485\n",
                  "\n",
                  "Bahan-bahan:\n",
                  "fillet Ayam- Tepung ayam goreng sekitar 1/4 bungkus (saya pakai merk s*sa)- 1 buah Telur ayam- Minyak goreng- Bumbu ayam (bumbu kuning)- \n",
                  "\n",
                  "Langkah-langkah:\n",
                  "1) Ambil kurang lebih 2 potong ayam fillet yang sudah dibumbui\n",
                  "2) Iris ayam fillet menjadi seperti di gambar\n",
                  "3) Pecahkam telur, masukan ke dalam mangkok, kocok\n",
                  "4) Sediakan wadah lain lalu taburkan tepung bumbu ayam goreng sekitar 1/4 bungkus\n",
                  "5) Masukan ayam yang sudah di iris ke telur satu per satu\n",
                  "6) Masukan ayam yang sudah dilumuri telur ke tepung bumbu ayam\n",
                  "7) Goreng ayam yang sudah dilumuri dengan api kecil atau sedang, kalau terlalu besar kurang optimal matangnya dan berpotensi gosong diluar\n",
                  "8) Ayam fillet crispy siap dihidangkan\n",
                  "\n"
                ]
              }
            ]
          }
        },
        "569e0cab9b1347f89e5ea445d3813b70": {
          "model_module": "@jupyter-widgets/base",
          "model_name": "LayoutModel",
          "model_module_version": "1.2.0",
          "state": {
            "_model_module": "@jupyter-widgets/base",
            "_model_module_version": "1.2.0",
            "_model_name": "LayoutModel",
            "_view_count": null,
            "_view_module": "@jupyter-widgets/base",
            "_view_module_version": "1.2.0",
            "_view_name": "LayoutView",
            "align_content": null,
            "align_items": null,
            "align_self": null,
            "border": null,
            "bottom": null,
            "display": null,
            "flex": null,
            "flex_flow": null,
            "grid_area": null,
            "grid_auto_columns": null,
            "grid_auto_flow": null,
            "grid_auto_rows": null,
            "grid_column": null,
            "grid_gap": null,
            "grid_row": null,
            "grid_template_areas": null,
            "grid_template_columns": null,
            "grid_template_rows": null,
            "height": null,
            "justify_content": null,
            "justify_items": null,
            "left": null,
            "margin": null,
            "max_height": null,
            "max_width": null,
            "min_height": null,
            "min_width": null,
            "object_fit": null,
            "object_position": null,
            "order": null,
            "overflow": null,
            "overflow_x": null,
            "overflow_y": null,
            "padding": null,
            "right": null,
            "top": null,
            "visibility": null,
            "width": null
          }
        },
        "5696271f649245d4b2369af5a30bde2a": {
          "model_module": "@jupyter-widgets/base",
          "model_name": "LayoutModel",
          "model_module_version": "1.2.0",
          "state": {
            "_model_module": "@jupyter-widgets/base",
            "_model_module_version": "1.2.0",
            "_model_name": "LayoutModel",
            "_view_count": null,
            "_view_module": "@jupyter-widgets/base",
            "_view_module_version": "1.2.0",
            "_view_name": "LayoutView",
            "align_content": null,
            "align_items": null,
            "align_self": null,
            "border": null,
            "bottom": null,
            "display": null,
            "flex": null,
            "flex_flow": null,
            "grid_area": null,
            "grid_auto_columns": null,
            "grid_auto_flow": null,
            "grid_auto_rows": null,
            "grid_column": null,
            "grid_gap": null,
            "grid_row": null,
            "grid_template_areas": null,
            "grid_template_columns": null,
            "grid_template_rows": null,
            "height": null,
            "justify_content": null,
            "justify_items": null,
            "left": null,
            "margin": null,
            "max_height": null,
            "max_width": null,
            "min_height": null,
            "min_width": null,
            "object_fit": null,
            "object_position": null,
            "order": null,
            "overflow": null,
            "overflow_x": null,
            "overflow_y": null,
            "padding": null,
            "right": null,
            "top": null,
            "visibility": null,
            "width": null
          }
        },
        "81ceb79e372843a0969741a9b16ab808": {
          "model_module": "@jupyter-widgets/controls",
          "model_name": "DescriptionStyleModel",
          "model_module_version": "1.5.0",
          "state": {
            "_model_module": "@jupyter-widgets/controls",
            "_model_module_version": "1.5.0",
            "_model_name": "DescriptionStyleModel",
            "_view_count": null,
            "_view_module": "@jupyter-widgets/base",
            "_view_module_version": "1.2.0",
            "_view_name": "StyleView",
            "description_width": ""
          }
        },
        "43e72d8f3a4f4d12bfc163fcd4ddae3d": {
          "model_module": "@jupyter-widgets/base",
          "model_name": "LayoutModel",
          "model_module_version": "1.2.0",
          "state": {
            "_model_module": "@jupyter-widgets/base",
            "_model_module_version": "1.2.0",
            "_model_name": "LayoutModel",
            "_view_count": null,
            "_view_module": "@jupyter-widgets/base",
            "_view_module_version": "1.2.0",
            "_view_name": "LayoutView",
            "align_content": null,
            "align_items": null,
            "align_self": null,
            "border": null,
            "bottom": null,
            "display": null,
            "flex": null,
            "flex_flow": null,
            "grid_area": null,
            "grid_auto_columns": null,
            "grid_auto_flow": null,
            "grid_auto_rows": null,
            "grid_column": null,
            "grid_gap": null,
            "grid_row": null,
            "grid_template_areas": null,
            "grid_template_columns": null,
            "grid_template_rows": null,
            "height": null,
            "justify_content": null,
            "justify_items": null,
            "left": null,
            "margin": null,
            "max_height": null,
            "max_width": null,
            "min_height": null,
            "min_width": null,
            "object_fit": null,
            "object_position": null,
            "order": null,
            "overflow": null,
            "overflow_x": null,
            "overflow_y": null,
            "padding": null,
            "right": null,
            "top": null,
            "visibility": null,
            "width": null
          }
        }
      }
    }
  },
  "cells": [
    {
      "cell_type": "markdown",
      "metadata": {
        "id": "view-in-github",
        "colab_type": "text"
      },
      "source": [
        "<a href=\"https://colab.research.google.com/github/arezyhs/Python-Indonesia-Recipes-Recommendation/blob/main/Python_Implementation_of_TFIDF_SVM_Random_Forest_Classifer_on_Recipe_Recommendation.ipynb\" target=\"_parent\"><img src=\"https://colab.research.google.com/assets/colab-badge.svg\" alt=\"Open In Colab\"/></a>"
      ]
    },
    {
      "cell_type": "markdown",
      "source": [
        "# Sistem Rekomendasi Resep Masakan Indonesia Berbasis Machine Learning"
      ],
      "metadata": {
        "id": "135Yy-scaw7P"
      }
    },
    {
      "cell_type": "markdown",
      "source": [
        "# Instalasi Pustaka yang Diperlukan\n",
        "\n",
        "Pada bagian ini, kita akan menginstal beberapa pustaka Python yang diperlukan untuk proyek ini. Berikut adalah pustaka yang akan diinstal:\n",
        "\n",
        "- **scikit-learn**: Digunakan untuk machine learning, termasuk pembuatan model klasifikasi dan evaluasi.\n",
        "- **plotly**: Digunakan untuk visualisasi interaktif yang lebih kompleks (meskipun pada contoh ini tidak digunakan langsung).\n",
        "- **nltk**: Pustaka Natural Language Toolkit, digunakan untuk pengolahan teks dan stopwords.\n",
        "- **ipywidgets**: Digunakan untuk membuat antarmuka interaktif dalam Jupyter Notebooks dan Google Colab.\n",
        "- **xgboost**: Digunakan untuk algoritma XGBoost yang terkenal dalam tugas klasifikasi dan regresi."
      ],
      "metadata": {
        "id": "Yrt9FTnX7U8e"
      }
    },
    {
      "cell_type": "code",
      "source": [
        "# SEGMEN 1: Instalasi pustaka yang dibutuhkan\n",
        "!pip install -U scikit-learn\n",
        "!pip install plotly\n",
        "!pip install nltk\n",
        "!pip install ipywidgets\n",
        "!pip install xgboost"
      ],
      "metadata": {
        "colab": {
          "base_uri": "https://localhost:8080/"
        },
        "id": "n9BWf1NH7SfL",
        "outputId": "ebd4ca96-d72c-4d80-c88b-356988f49c4b"
      },
      "execution_count": null,
      "outputs": [
        {
          "output_type": "stream",
          "name": "stdout",
          "text": [
            "Requirement already satisfied: scikit-learn in /usr/local/lib/python3.10/dist-packages (1.5.2)\n",
            "Collecting scikit-learn\n",
            "  Downloading scikit_learn-1.6.0-cp310-cp310-manylinux_2_17_x86_64.manylinux2014_x86_64.whl.metadata (18 kB)\n",
            "Requirement already satisfied: numpy>=1.19.5 in /usr/local/lib/python3.10/dist-packages (from scikit-learn) (1.26.4)\n",
            "Requirement already satisfied: scipy>=1.6.0 in /usr/local/lib/python3.10/dist-packages (from scikit-learn) (1.13.1)\n",
            "Requirement already satisfied: joblib>=1.2.0 in /usr/local/lib/python3.10/dist-packages (from scikit-learn) (1.4.2)\n",
            "Requirement already satisfied: threadpoolctl>=3.1.0 in /usr/local/lib/python3.10/dist-packages (from scikit-learn) (3.5.0)\n",
            "Downloading scikit_learn-1.6.0-cp310-cp310-manylinux_2_17_x86_64.manylinux2014_x86_64.whl (13.5 MB)\n",
            "\u001b[2K   \u001b[90m━━━━━━━━━━━━━━━━━━━━━━━━━━━━━━━━━━━━━━━━\u001b[0m \u001b[32m13.5/13.5 MB\u001b[0m \u001b[31m60.0 MB/s\u001b[0m eta \u001b[36m0:00:00\u001b[0m\n",
            "\u001b[?25hInstalling collected packages: scikit-learn\n",
            "  Attempting uninstall: scikit-learn\n",
            "    Found existing installation: scikit-learn 1.5.2\n",
            "    Uninstalling scikit-learn-1.5.2:\n",
            "      Successfully uninstalled scikit-learn-1.5.2\n",
            "Successfully installed scikit-learn-1.6.0\n",
            "Requirement already satisfied: plotly in /usr/local/lib/python3.10/dist-packages (5.24.1)\n",
            "Requirement already satisfied: tenacity>=6.2.0 in /usr/local/lib/python3.10/dist-packages (from plotly) (9.0.0)\n",
            "Requirement already satisfied: packaging in /usr/local/lib/python3.10/dist-packages (from plotly) (24.2)\n",
            "Requirement already satisfied: nltk in /usr/local/lib/python3.10/dist-packages (3.9.1)\n",
            "Requirement already satisfied: click in /usr/local/lib/python3.10/dist-packages (from nltk) (8.1.7)\n",
            "Requirement already satisfied: joblib in /usr/local/lib/python3.10/dist-packages (from nltk) (1.4.2)\n",
            "Requirement already satisfied: regex>=2021.8.3 in /usr/local/lib/python3.10/dist-packages (from nltk) (2024.9.11)\n",
            "Requirement already satisfied: tqdm in /usr/local/lib/python3.10/dist-packages (from nltk) (4.66.6)\n",
            "Requirement already satisfied: ipywidgets in /usr/local/lib/python3.10/dist-packages (7.7.1)\n",
            "Requirement already satisfied: ipykernel>=4.5.1 in /usr/local/lib/python3.10/dist-packages (from ipywidgets) (5.5.6)\n",
            "Requirement already satisfied: ipython-genutils~=0.2.0 in /usr/local/lib/python3.10/dist-packages (from ipywidgets) (0.2.0)\n",
            "Requirement already satisfied: traitlets>=4.3.1 in /usr/local/lib/python3.10/dist-packages (from ipywidgets) (5.7.1)\n",
            "Requirement already satisfied: widgetsnbextension~=3.6.0 in /usr/local/lib/python3.10/dist-packages (from ipywidgets) (3.6.10)\n",
            "Requirement already satisfied: ipython>=4.0.0 in /usr/local/lib/python3.10/dist-packages (from ipywidgets) (7.34.0)\n",
            "Requirement already satisfied: jupyterlab-widgets>=1.0.0 in /usr/local/lib/python3.10/dist-packages (from ipywidgets) (3.0.13)\n",
            "Requirement already satisfied: jupyter-client in /usr/local/lib/python3.10/dist-packages (from ipykernel>=4.5.1->ipywidgets) (6.1.12)\n",
            "Requirement already satisfied: tornado>=4.2 in /usr/local/lib/python3.10/dist-packages (from ipykernel>=4.5.1->ipywidgets) (6.3.3)\n",
            "Requirement already satisfied: setuptools>=18.5 in /usr/local/lib/python3.10/dist-packages (from ipython>=4.0.0->ipywidgets) (75.1.0)\n",
            "Collecting jedi>=0.16 (from ipython>=4.0.0->ipywidgets)\n",
            "  Downloading jedi-0.19.2-py2.py3-none-any.whl.metadata (22 kB)\n",
            "Requirement already satisfied: decorator in /usr/local/lib/python3.10/dist-packages (from ipython>=4.0.0->ipywidgets) (4.4.2)\n",
            "Requirement already satisfied: pickleshare in /usr/local/lib/python3.10/dist-packages (from ipython>=4.0.0->ipywidgets) (0.7.5)\n",
            "Requirement already satisfied: prompt-toolkit!=3.0.0,!=3.0.1,<3.1.0,>=2.0.0 in /usr/local/lib/python3.10/dist-packages (from ipython>=4.0.0->ipywidgets) (3.0.48)\n",
            "Requirement already satisfied: pygments in /usr/local/lib/python3.10/dist-packages (from ipython>=4.0.0->ipywidgets) (2.18.0)\n",
            "Requirement already satisfied: backcall in /usr/local/lib/python3.10/dist-packages (from ipython>=4.0.0->ipywidgets) (0.2.0)\n",
            "Requirement already satisfied: matplotlib-inline in /usr/local/lib/python3.10/dist-packages (from ipython>=4.0.0->ipywidgets) (0.1.7)\n",
            "Requirement already satisfied: pexpect>4.3 in /usr/local/lib/python3.10/dist-packages (from ipython>=4.0.0->ipywidgets) (4.9.0)\n",
            "Requirement already satisfied: notebook>=4.4.1 in /usr/local/lib/python3.10/dist-packages (from widgetsnbextension~=3.6.0->ipywidgets) (6.5.5)\n",
            "Requirement already satisfied: parso<0.9.0,>=0.8.4 in /usr/local/lib/python3.10/dist-packages (from jedi>=0.16->ipython>=4.0.0->ipywidgets) (0.8.4)\n",
            "Requirement already satisfied: jinja2 in /usr/local/lib/python3.10/dist-packages (from notebook>=4.4.1->widgetsnbextension~=3.6.0->ipywidgets) (3.1.4)\n",
            "Requirement already satisfied: pyzmq<25,>=17 in /usr/local/lib/python3.10/dist-packages (from notebook>=4.4.1->widgetsnbextension~=3.6.0->ipywidgets) (24.0.1)\n",
            "Requirement already satisfied: argon2-cffi in /usr/local/lib/python3.10/dist-packages (from notebook>=4.4.1->widgetsnbextension~=3.6.0->ipywidgets) (23.1.0)\n",
            "Requirement already satisfied: jupyter-core>=4.6.1 in /usr/local/lib/python3.10/dist-packages (from notebook>=4.4.1->widgetsnbextension~=3.6.0->ipywidgets) (5.7.2)\n",
            "Requirement already satisfied: nbformat in /usr/local/lib/python3.10/dist-packages (from notebook>=4.4.1->widgetsnbextension~=3.6.0->ipywidgets) (5.10.4)\n",
            "Requirement already satisfied: nbconvert>=5 in /usr/local/lib/python3.10/dist-packages (from notebook>=4.4.1->widgetsnbextension~=3.6.0->ipywidgets) (7.16.4)\n",
            "Requirement already satisfied: nest-asyncio>=1.5 in /usr/local/lib/python3.10/dist-packages (from notebook>=4.4.1->widgetsnbextension~=3.6.0->ipywidgets) (1.6.0)\n",
            "Requirement already satisfied: Send2Trash>=1.8.0 in /usr/local/lib/python3.10/dist-packages (from notebook>=4.4.1->widgetsnbextension~=3.6.0->ipywidgets) (1.8.3)\n",
            "Requirement already satisfied: terminado>=0.8.3 in /usr/local/lib/python3.10/dist-packages (from notebook>=4.4.1->widgetsnbextension~=3.6.0->ipywidgets) (0.18.1)\n",
            "Requirement already satisfied: prometheus-client in /usr/local/lib/python3.10/dist-packages (from notebook>=4.4.1->widgetsnbextension~=3.6.0->ipywidgets) (0.21.1)\n",
            "Requirement already satisfied: nbclassic>=0.4.7 in /usr/local/lib/python3.10/dist-packages (from notebook>=4.4.1->widgetsnbextension~=3.6.0->ipywidgets) (1.1.0)\n",
            "Requirement already satisfied: python-dateutil>=2.1 in /usr/local/lib/python3.10/dist-packages (from jupyter-client->ipykernel>=4.5.1->ipywidgets) (2.8.2)\n",
            "Requirement already satisfied: ptyprocess>=0.5 in /usr/local/lib/python3.10/dist-packages (from pexpect>4.3->ipython>=4.0.0->ipywidgets) (0.7.0)\n",
            "Requirement already satisfied: wcwidth in /usr/local/lib/python3.10/dist-packages (from prompt-toolkit!=3.0.0,!=3.0.1,<3.1.0,>=2.0.0->ipython>=4.0.0->ipywidgets) (0.2.13)\n",
            "Requirement already satisfied: platformdirs>=2.5 in /usr/local/lib/python3.10/dist-packages (from jupyter-core>=4.6.1->notebook>=4.4.1->widgetsnbextension~=3.6.0->ipywidgets) (4.3.6)\n",
            "Requirement already satisfied: notebook-shim>=0.2.3 in /usr/local/lib/python3.10/dist-packages (from nbclassic>=0.4.7->notebook>=4.4.1->widgetsnbextension~=3.6.0->ipywidgets) (0.2.4)\n",
            "Requirement already satisfied: beautifulsoup4 in /usr/local/lib/python3.10/dist-packages (from nbconvert>=5->notebook>=4.4.1->widgetsnbextension~=3.6.0->ipywidgets) (4.12.3)\n",
            "Requirement already satisfied: bleach!=5.0.0 in /usr/local/lib/python3.10/dist-packages (from nbconvert>=5->notebook>=4.4.1->widgetsnbextension~=3.6.0->ipywidgets) (6.2.0)\n",
            "Requirement already satisfied: defusedxml in /usr/local/lib/python3.10/dist-packages (from nbconvert>=5->notebook>=4.4.1->widgetsnbextension~=3.6.0->ipywidgets) (0.7.1)\n",
            "Requirement already satisfied: jupyterlab-pygments in /usr/local/lib/python3.10/dist-packages (from nbconvert>=5->notebook>=4.4.1->widgetsnbextension~=3.6.0->ipywidgets) (0.3.0)\n",
            "Requirement already satisfied: markupsafe>=2.0 in /usr/local/lib/python3.10/dist-packages (from nbconvert>=5->notebook>=4.4.1->widgetsnbextension~=3.6.0->ipywidgets) (3.0.2)\n",
            "Requirement already satisfied: mistune<4,>=2.0.3 in /usr/local/lib/python3.10/dist-packages (from nbconvert>=5->notebook>=4.4.1->widgetsnbextension~=3.6.0->ipywidgets) (3.0.2)\n",
            "Requirement already satisfied: nbclient>=0.5.0 in /usr/local/lib/python3.10/dist-packages (from nbconvert>=5->notebook>=4.4.1->widgetsnbextension~=3.6.0->ipywidgets) (0.10.1)\n",
            "Requirement already satisfied: packaging in /usr/local/lib/python3.10/dist-packages (from nbconvert>=5->notebook>=4.4.1->widgetsnbextension~=3.6.0->ipywidgets) (24.2)\n",
            "Requirement already satisfied: pandocfilters>=1.4.1 in /usr/local/lib/python3.10/dist-packages (from nbconvert>=5->notebook>=4.4.1->widgetsnbextension~=3.6.0->ipywidgets) (1.5.1)\n",
            "Requirement already satisfied: tinycss2 in /usr/local/lib/python3.10/dist-packages (from nbconvert>=5->notebook>=4.4.1->widgetsnbextension~=3.6.0->ipywidgets) (1.4.0)\n",
            "Requirement already satisfied: fastjsonschema>=2.15 in /usr/local/lib/python3.10/dist-packages (from nbformat->notebook>=4.4.1->widgetsnbextension~=3.6.0->ipywidgets) (2.21.1)\n",
            "Requirement already satisfied: jsonschema>=2.6 in /usr/local/lib/python3.10/dist-packages (from nbformat->notebook>=4.4.1->widgetsnbextension~=3.6.0->ipywidgets) (4.23.0)\n",
            "Requirement already satisfied: six>=1.5 in /usr/local/lib/python3.10/dist-packages (from python-dateutil>=2.1->jupyter-client->ipykernel>=4.5.1->ipywidgets) (1.17.0)\n",
            "Requirement already satisfied: argon2-cffi-bindings in /usr/local/lib/python3.10/dist-packages (from argon2-cffi->notebook>=4.4.1->widgetsnbextension~=3.6.0->ipywidgets) (21.2.0)\n",
            "Requirement already satisfied: webencodings in /usr/local/lib/python3.10/dist-packages (from bleach!=5.0.0->nbconvert>=5->notebook>=4.4.1->widgetsnbextension~=3.6.0->ipywidgets) (0.5.1)\n",
            "Requirement already satisfied: attrs>=22.2.0 in /usr/local/lib/python3.10/dist-packages (from jsonschema>=2.6->nbformat->notebook>=4.4.1->widgetsnbextension~=3.6.0->ipywidgets) (24.2.0)\n",
            "Requirement already satisfied: jsonschema-specifications>=2023.03.6 in /usr/local/lib/python3.10/dist-packages (from jsonschema>=2.6->nbformat->notebook>=4.4.1->widgetsnbextension~=3.6.0->ipywidgets) (2024.10.1)\n",
            "Requirement already satisfied: referencing>=0.28.4 in /usr/local/lib/python3.10/dist-packages (from jsonschema>=2.6->nbformat->notebook>=4.4.1->widgetsnbextension~=3.6.0->ipywidgets) (0.35.1)\n",
            "Requirement already satisfied: rpds-py>=0.7.1 in /usr/local/lib/python3.10/dist-packages (from jsonschema>=2.6->nbformat->notebook>=4.4.1->widgetsnbextension~=3.6.0->ipywidgets) (0.22.3)\n",
            "Requirement already satisfied: jupyter-server<3,>=1.8 in /usr/local/lib/python3.10/dist-packages (from notebook-shim>=0.2.3->nbclassic>=0.4.7->notebook>=4.4.1->widgetsnbextension~=3.6.0->ipywidgets) (1.24.0)\n",
            "Requirement already satisfied: cffi>=1.0.1 in /usr/local/lib/python3.10/dist-packages (from argon2-cffi-bindings->argon2-cffi->notebook>=4.4.1->widgetsnbextension~=3.6.0->ipywidgets) (1.17.1)\n",
            "Requirement already satisfied: soupsieve>1.2 in /usr/local/lib/python3.10/dist-packages (from beautifulsoup4->nbconvert>=5->notebook>=4.4.1->widgetsnbextension~=3.6.0->ipywidgets) (2.6)\n",
            "Requirement already satisfied: pycparser in /usr/local/lib/python3.10/dist-packages (from cffi>=1.0.1->argon2-cffi-bindings->argon2-cffi->notebook>=4.4.1->widgetsnbextension~=3.6.0->ipywidgets) (2.22)\n",
            "Requirement already satisfied: anyio<4,>=3.1.0 in /usr/local/lib/python3.10/dist-packages (from jupyter-server<3,>=1.8->notebook-shim>=0.2.3->nbclassic>=0.4.7->notebook>=4.4.1->widgetsnbextension~=3.6.0->ipywidgets) (3.7.1)\n",
            "Requirement already satisfied: websocket-client in /usr/local/lib/python3.10/dist-packages (from jupyter-server<3,>=1.8->notebook-shim>=0.2.3->nbclassic>=0.4.7->notebook>=4.4.1->widgetsnbextension~=3.6.0->ipywidgets) (1.8.0)\n",
            "Requirement already satisfied: idna>=2.8 in /usr/local/lib/python3.10/dist-packages (from anyio<4,>=3.1.0->jupyter-server<3,>=1.8->notebook-shim>=0.2.3->nbclassic>=0.4.7->notebook>=4.4.1->widgetsnbextension~=3.6.0->ipywidgets) (3.10)\n",
            "Requirement already satisfied: sniffio>=1.1 in /usr/local/lib/python3.10/dist-packages (from anyio<4,>=3.1.0->jupyter-server<3,>=1.8->notebook-shim>=0.2.3->nbclassic>=0.4.7->notebook>=4.4.1->widgetsnbextension~=3.6.0->ipywidgets) (1.3.1)\n",
            "Requirement already satisfied: exceptiongroup in /usr/local/lib/python3.10/dist-packages (from anyio<4,>=3.1.0->jupyter-server<3,>=1.8->notebook-shim>=0.2.3->nbclassic>=0.4.7->notebook>=4.4.1->widgetsnbextension~=3.6.0->ipywidgets) (1.2.2)\n",
            "Downloading jedi-0.19.2-py2.py3-none-any.whl (1.6 MB)\n",
            "\u001b[2K   \u001b[90m━━━━━━━━━━━━━━━━━━━━━━━━━━━━━━━━━━━━━━━━\u001b[0m \u001b[32m1.6/1.6 MB\u001b[0m \u001b[31m35.7 MB/s\u001b[0m eta \u001b[36m0:00:00\u001b[0m\n",
            "\u001b[?25hInstalling collected packages: jedi\n",
            "Successfully installed jedi-0.19.2\n",
            "Requirement already satisfied: xgboost in /usr/local/lib/python3.10/dist-packages (2.1.3)\n",
            "Requirement already satisfied: numpy in /usr/local/lib/python3.10/dist-packages (from xgboost) (1.26.4)\n",
            "Requirement already satisfied: nvidia-nccl-cu12 in /usr/local/lib/python3.10/dist-packages (from xgboost) (2.23.4)\n",
            "Requirement already satisfied: scipy in /usr/local/lib/python3.10/dist-packages (from xgboost) (1.13.1)\n"
          ]
        }
      ]
    },
    {
      "cell_type": "markdown",
      "source": [
        "# Import Pustaka yang Diperlukan dan Membaca Dataset\n",
        "\n",
        "Pada bagian ini, kita mengimpor pustaka-pustaka yang diperlukan untuk proyek ini, termasuk pustaka untuk pemrosesan data, machine learning, dan visualisasi. Selain itu, kita juga mengunggah dan menggabungkan beberapa file dataset yang akan digunakan dalam proyek ini.\n",
        "\n",
        "### Pustaka yang Diimpor:\n",
        "- **pandas**: Digunakan untuk manipulasi dan analisis data.\n",
        "- **numpy**: Digunakan untuk operasi matematika dan array.\n",
        "- **os**: Digunakan untuk operasi sistem file.\n",
        "- **sklearn.feature_extraction.text.TfidfVectorizer**: Digunakan untuk mengonversi teks menjadi representasi numerik menggunakan metode TF-IDF (Term Frequency-Inverse Document Frequency).\n",
        "- **sklearn.metrics.pairwise.cosine_similarity**: Digunakan untuk menghitung similarity antara dua vektor teks menggunakan cosine similarity.\n",
        "- **sklearn.model_selection.train_test_split**: Digunakan untuk membagi data menjadi data pelatihan dan pengujian.\n",
        "- **sklearn.svm.SVC**: Digunakan untuk membangun model Support Vector Machine (SVM) untuk klasifikasi.\n",
        "- **sklearn.ensemble.RandomForestClassifier**: Digunakan untuk membangun model Random Forest.\n",
        "- **sklearn.metrics.accuracy_score**: Digunakan untuk menghitung akurasi dari model yang dibangun.\n",
        "- **matplotlib.pyplot**: Digunakan untuk visualisasi grafik.\n",
        "- **seaborn**: Digunakan untuk visualisasi statistik dan grafik.\n",
        "- **nltk.corpus.stopwords**: Digunakan untuk mendapatkan daftar kata-kata umum (stopwords) dalam bahasa Indonesia.\n",
        "- **ipywidgets**: Digunakan untuk membuat antarmuka interaktif di Google Colab.\n",
        "- **pickle**: Digunakan untuk serialisasi objek Python, seperti menyimpan model yang telah dilatih.\n",
        "\n",
        "### Proses Membaca dan Menggabungkan Dataset:\n",
        "- **`files.upload()`**: Mengunggah file CSV yang diperlukan ke Google Colab.\n",
        "- **`file_names`**: Daftar nama file CSV yang berisi dataset.\n",
        "- **Membaca dan Menggabungkan Dataset**: Kita membaca setiap file CSV yang ada dalam daftar `file_names` dan menyimpannya dalam list `dataframes`. Kemudian, seluruh dataset digabungkan menjadi satu DataFrame menggunakan `pd.concat()`.\n",
        "\n",
        "Setelah proses ini, data akan digabungkan menjadi satu DataFrame besar yang dapat digunakan untuk analisis lebih lanjut dan pemrosesan teks."
      ],
      "metadata": {
        "id": "KVR4lx8H7o8s"
      }
    },
    {
      "cell_type": "code",
      "source": [
        "# SEGMEN 2: Importing Libraries dan Membaca Dataset\n",
        "import pandas as pd\n",
        "import numpy as np\n",
        "import os\n",
        "from sklearn.feature_extraction.text import TfidfVectorizer\n",
        "from sklearn.metrics.pairwise import cosine_similarity\n",
        "from sklearn.model_selection import train_test_split\n",
        "from sklearn.svm import SVC\n",
        "from sklearn.ensemble import RandomForestClassifier\n",
        "from sklearn.metrics import accuracy_score\n",
        "import matplotlib.pyplot as plt\n",
        "import seaborn as sns\n",
        "import nltk\n",
        "from nltk.corpus import stopwords\n",
        "from ipywidgets import interact\n",
        "import pickle\n",
        "\n",
        "from google.colab import files\n",
        "\n",
        "# Mengunggah dataset ke Google Colab (pastikan file CSV di-upload terlebih dahulu)\n",
        "from google.colab import files\n",
        "uploaded = files.upload()\n",
        "file_name = 'Indonesian_Food_Recipes.csv'\n",
        "# Membaca dataset\n",
        "print(\"Membaca file dataset...\")\n",
        "df = pd.read_csv(file_name)\n",
        "# Baca dataset untuk dicek\n",
        "print(\"Membaca file dataset...\")\n",
        "df = pd.read_csv(file_name)\n",
        "\n",
        "# Tampilkan beberapa data awal\n",
        "print(df.head())"
      ],
      "metadata": {
        "colab": {
          "base_uri": "https://localhost:8080/",
          "height": 822
        },
        "id": "6R3IhBgO3bAb",
        "outputId": "917a2b76-c4b5-4b5d-d16e-b31bdecd21d9"
      },
      "execution_count": null,
      "outputs": [
        {
          "output_type": "display_data",
          "data": {
            "text/plain": [
              "<IPython.core.display.HTML object>"
            ],
            "text/html": [
              "\n",
              "     <input type=\"file\" id=\"files-7524665b-37c9-4f30-a0eb-219ee4f62e1e\" name=\"files[]\" multiple disabled\n",
              "        style=\"border:none\" />\n",
              "     <output id=\"result-7524665b-37c9-4f30-a0eb-219ee4f62e1e\">\n",
              "      Upload widget is only available when the cell has been executed in the\n",
              "      current browser session. Please rerun this cell to enable.\n",
              "      </output>\n",
              "      <script>// Copyright 2017 Google LLC\n",
              "//\n",
              "// Licensed under the Apache License, Version 2.0 (the \"License\");\n",
              "// you may not use this file except in compliance with the License.\n",
              "// You may obtain a copy of the License at\n",
              "//\n",
              "//      http://www.apache.org/licenses/LICENSE-2.0\n",
              "//\n",
              "// Unless required by applicable law or agreed to in writing, software\n",
              "// distributed under the License is distributed on an \"AS IS\" BASIS,\n",
              "// WITHOUT WARRANTIES OR CONDITIONS OF ANY KIND, either express or implied.\n",
              "// See the License for the specific language governing permissions and\n",
              "// limitations under the License.\n",
              "\n",
              "/**\n",
              " * @fileoverview Helpers for google.colab Python module.\n",
              " */\n",
              "(function(scope) {\n",
              "function span(text, styleAttributes = {}) {\n",
              "  const element = document.createElement('span');\n",
              "  element.textContent = text;\n",
              "  for (const key of Object.keys(styleAttributes)) {\n",
              "    element.style[key] = styleAttributes[key];\n",
              "  }\n",
              "  return element;\n",
              "}\n",
              "\n",
              "// Max number of bytes which will be uploaded at a time.\n",
              "const MAX_PAYLOAD_SIZE = 100 * 1024;\n",
              "\n",
              "function _uploadFiles(inputId, outputId) {\n",
              "  const steps = uploadFilesStep(inputId, outputId);\n",
              "  const outputElement = document.getElementById(outputId);\n",
              "  // Cache steps on the outputElement to make it available for the next call\n",
              "  // to uploadFilesContinue from Python.\n",
              "  outputElement.steps = steps;\n",
              "\n",
              "  return _uploadFilesContinue(outputId);\n",
              "}\n",
              "\n",
              "// This is roughly an async generator (not supported in the browser yet),\n",
              "// where there are multiple asynchronous steps and the Python side is going\n",
              "// to poll for completion of each step.\n",
              "// This uses a Promise to block the python side on completion of each step,\n",
              "// then passes the result of the previous step as the input to the next step.\n",
              "function _uploadFilesContinue(outputId) {\n",
              "  const outputElement = document.getElementById(outputId);\n",
              "  const steps = outputElement.steps;\n",
              "\n",
              "  const next = steps.next(outputElement.lastPromiseValue);\n",
              "  return Promise.resolve(next.value.promise).then((value) => {\n",
              "    // Cache the last promise value to make it available to the next\n",
              "    // step of the generator.\n",
              "    outputElement.lastPromiseValue = value;\n",
              "    return next.value.response;\n",
              "  });\n",
              "}\n",
              "\n",
              "/**\n",
              " * Generator function which is called between each async step of the upload\n",
              " * process.\n",
              " * @param {string} inputId Element ID of the input file picker element.\n",
              " * @param {string} outputId Element ID of the output display.\n",
              " * @return {!Iterable<!Object>} Iterable of next steps.\n",
              " */\n",
              "function* uploadFilesStep(inputId, outputId) {\n",
              "  const inputElement = document.getElementById(inputId);\n",
              "  inputElement.disabled = false;\n",
              "\n",
              "  const outputElement = document.getElementById(outputId);\n",
              "  outputElement.innerHTML = '';\n",
              "\n",
              "  const pickedPromise = new Promise((resolve) => {\n",
              "    inputElement.addEventListener('change', (e) => {\n",
              "      resolve(e.target.files);\n",
              "    });\n",
              "  });\n",
              "\n",
              "  const cancel = document.createElement('button');\n",
              "  inputElement.parentElement.appendChild(cancel);\n",
              "  cancel.textContent = 'Cancel upload';\n",
              "  const cancelPromise = new Promise((resolve) => {\n",
              "    cancel.onclick = () => {\n",
              "      resolve(null);\n",
              "    };\n",
              "  });\n",
              "\n",
              "  // Wait for the user to pick the files.\n",
              "  const files = yield {\n",
              "    promise: Promise.race([pickedPromise, cancelPromise]),\n",
              "    response: {\n",
              "      action: 'starting',\n",
              "    }\n",
              "  };\n",
              "\n",
              "  cancel.remove();\n",
              "\n",
              "  // Disable the input element since further picks are not allowed.\n",
              "  inputElement.disabled = true;\n",
              "\n",
              "  if (!files) {\n",
              "    return {\n",
              "      response: {\n",
              "        action: 'complete',\n",
              "      }\n",
              "    };\n",
              "  }\n",
              "\n",
              "  for (const file of files) {\n",
              "    const li = document.createElement('li');\n",
              "    li.append(span(file.name, {fontWeight: 'bold'}));\n",
              "    li.append(span(\n",
              "        `(${file.type || 'n/a'}) - ${file.size} bytes, ` +\n",
              "        `last modified: ${\n",
              "            file.lastModifiedDate ? file.lastModifiedDate.toLocaleDateString() :\n",
              "                                    'n/a'} - `));\n",
              "    const percent = span('0% done');\n",
              "    li.appendChild(percent);\n",
              "\n",
              "    outputElement.appendChild(li);\n",
              "\n",
              "    const fileDataPromise = new Promise((resolve) => {\n",
              "      const reader = new FileReader();\n",
              "      reader.onload = (e) => {\n",
              "        resolve(e.target.result);\n",
              "      };\n",
              "      reader.readAsArrayBuffer(file);\n",
              "    });\n",
              "    // Wait for the data to be ready.\n",
              "    let fileData = yield {\n",
              "      promise: fileDataPromise,\n",
              "      response: {\n",
              "        action: 'continue',\n",
              "      }\n",
              "    };\n",
              "\n",
              "    // Use a chunked sending to avoid message size limits. See b/62115660.\n",
              "    let position = 0;\n",
              "    do {\n",
              "      const length = Math.min(fileData.byteLength - position, MAX_PAYLOAD_SIZE);\n",
              "      const chunk = new Uint8Array(fileData, position, length);\n",
              "      position += length;\n",
              "\n",
              "      const base64 = btoa(String.fromCharCode.apply(null, chunk));\n",
              "      yield {\n",
              "        response: {\n",
              "          action: 'append',\n",
              "          file: file.name,\n",
              "          data: base64,\n",
              "        },\n",
              "      };\n",
              "\n",
              "      let percentDone = fileData.byteLength === 0 ?\n",
              "          100 :\n",
              "          Math.round((position / fileData.byteLength) * 100);\n",
              "      percent.textContent = `${percentDone}% done`;\n",
              "\n",
              "    } while (position < fileData.byteLength);\n",
              "  }\n",
              "\n",
              "  // All done.\n",
              "  yield {\n",
              "    response: {\n",
              "      action: 'complete',\n",
              "    }\n",
              "  };\n",
              "}\n",
              "\n",
              "scope.google = scope.google || {};\n",
              "scope.google.colab = scope.google.colab || {};\n",
              "scope.google.colab._files = {\n",
              "  _uploadFiles,\n",
              "  _uploadFilesContinue,\n",
              "};\n",
              "})(self);\n",
              "</script> "
            ]
          },
          "metadata": {}
        },
        {
          "output_type": "stream",
          "name": "stdout",
          "text": [
            "Membaca file dataset...\n",
            "Membaca file dataset...\n",
            "                      Title  \\\n",
            "0          Ayam Woku Manado   \n",
            "1  Ayam goreng tulang lunak   \n",
            "2          Ayam cabai kawin   \n",
            "3               Ayam Geprek   \n",
            "4               Minyak Ayam   \n",
            "\n",
            "                                         Ingredients  \\\n",
            "0  1 Ekor Ayam Kampung (potong 12)--2 Buah Jeruk ...   \n",
            "1  1 kg ayam (dipotong sesuai selera jangan kecil...   \n",
            "2  1/4 kg ayam--3 buah cabai hijau besar--7 buah ...   \n",
            "3  250 gr daging ayam (saya pakai fillet)--Secuku...   \n",
            "4  400 gr kulit ayam & lemaknya--8 siung bawang p...   \n",
            "\n",
            "                                               Steps  Loves  \\\n",
            "0  1) Cuci bersih ayam dan tiriskan. Lalu peras j...      1   \n",
            "1  1) Haluskan bumbu2nya (BaPut, ketumbar, kemiri...      1   \n",
            "2  1) Panaskan minyak di dalam wajan. Setelah min...      2   \n",
            "3  1) Goreng ayam seperti ayam krispi\\n2) Ulek se...     10   \n",
            "4  1) Cuci bersih kulit ayam. Sisihkan\\n2) Ambil ...      4   \n",
            "\n",
            "                                                 URL Category  \\\n",
            "0  https://cookpad.com/id/resep/4473027-ayam-woku...     ayam   \n",
            "1  https://cookpad.com/id/resep/4471956-ayam-gore...     ayam   \n",
            "2  https://cookpad.com/id/resep/4473057-ayam-caba...     ayam   \n",
            "3   https://cookpad.com/id/resep/4473023-ayam-geprek     ayam   \n",
            "4   https://cookpad.com/id/resep/4427438-minyak-ayam     ayam   \n",
            "\n",
            "              Title Cleaned  Total Ingredients  \\\n",
            "0          ayam woku manado                 14   \n",
            "1  ayam goreng tulang lunak                 11   \n",
            "2          ayam cabai kawin                 10   \n",
            "3               ayam geprek                  7   \n",
            "4               minyak ayam                  5   \n",
            "\n",
            "                                 Ingredients Cleaned  Total Steps  \n",
            "0  ayam kampung potong , jeruk nipis , garam , ku...            7  \n",
            "1  ayam dipotong , serai , daun jeruk , bawang pu...            5  \n",
            "2  ayam , cabai hijau , cabai merah rawit , bawan...            3  \n",
            "3  daging ayam fillet , gula garam , tepung ayam ...            3  \n",
            "4  kulit ayam & lemaknya , bawang putih , cincang...            6  \n"
          ]
        }
      ]
    },
    {
      "cell_type": "markdown",
      "source": [
        "# Pembersihan Data\n",
        "\n",
        "Pada bagian ini, kita melakukan beberapa langkah pembersihan data untuk memastikan dataset siap digunakan untuk analisis dan pemodelan. Langkah-langkah pembersihan mencakup penggantian nilai yang hilang (missing values), pengolahan teks untuk standarisasi, dan penggabungan beberapa kolom menjadi satu kolom teks yang lebih komprehensif.\n",
        "\n",
        "### Langkah-langkah Pembersihan:\n",
        "1. **Mengganti Nilai yang Hilang (Missing Values)**:\n",
        "   - Kolom **'Ingredients'** dan **'Steps'** memiliki nilai yang hilang (NaN) yang diganti dengan string kosong (`''`).\n",
        "   - Ini memastikan bahwa saat kita memproses teks, tidak ada nilai yang hilang yang bisa menyebabkan error.\n",
        "\n",
        "2. **Mengubah Teks Menjadi Huruf Kecil**:\n",
        "   - Kolom **'Title'** yang berisi judul resep diubah menjadi huruf kecil menggunakan `.str.lower()`. Hal ini membantu standarisasi teks agar tidak ada perbedaan antara huruf kapital dan huruf kecil dalam analisis lebih lanjut.\n",
        "\n",
        "3. **Menggabungkan Kolom 'Title', 'Ingredients', dan 'Steps'**:\n",
        "   - Kolom **'Title'**, **'Ingredients'**, dan **'Steps'** digabungkan menjadi satu kolom teks yang baru bernama **'text'**. Kolom **'text'** ini akan digunakan untuk menghasilkan fitur teks dalam model analisis dan rekomendasi.\n",
        "\n",
        "### Hasil:\n",
        "- Dataset yang telah dibersihkan dan siap digunakan untuk analisis dan pemrosesan teks lebih lanjut."
      ],
      "metadata": {
        "id": "Lgq6C9nV8B6E"
      }
    },
    {
      "cell_type": "code",
      "source": [
        "# SEGMEN 3: Pembersihan Data\n",
        "print(\"Melakukan pembersihan data...\")\n",
        "\n",
        "# Menghapus kolom 'Loves' dan 'URL' jika ada\n",
        "df = df.drop(columns=[col for col in ['Loves', 'URL'] if col in df.columns])\n",
        "\n",
        "# Mengganti NaN dengan string kosong pada kolom 'Ingredients' dan 'Steps'\n",
        "df['Ingredients'] = df['Ingredients'].fillna('')\n",
        "df['Steps'] = df['Steps'].fillna('')\n",
        "\n",
        "# Mengganti NaN dengan string kosong pada kolom 'Title' dan 'text' untuk menghindari error\n",
        "df['Title'] = df['Title'].fillna('')\n",
        "\n",
        "# Mengubah semua teks di kolom 'Title' menjadi huruf kecil\n",
        "df['Title'] = df['Title'].str.lower()\n",
        "\n",
        "# Gabungkan kolom 'Title', 'Ingredients', dan 'Steps' menjadi satu kolom teks\n",
        "df['text'] = df['Title'] + ' ' + df['Ingredients'] + ' ' + df['Steps']\n",
        "df['text'] = df['text'].fillna('')\n",
        "\n",
        "# Cek hasil gabungan\n",
        "print(df.head())"
      ],
      "metadata": {
        "colab": {
          "base_uri": "https://localhost:8080/"
        },
        "id": "NVNcEDcf8JFM",
        "outputId": "3fe3be7b-00cf-4814-e138-8fec1ba89b4f"
      },
      "execution_count": null,
      "outputs": [
        {
          "output_type": "stream",
          "name": "stdout",
          "text": [
            "Melakukan pembersihan data...\n",
            "                      Title  \\\n",
            "0          ayam woku manado   \n",
            "1  ayam goreng tulang lunak   \n",
            "2          ayam cabai kawin   \n",
            "3               ayam geprek   \n",
            "4               minyak ayam   \n",
            "\n",
            "                                         Ingredients  \\\n",
            "0  1 Ekor Ayam Kampung (potong 12)--2 Buah Jeruk ...   \n",
            "1  1 kg ayam (dipotong sesuai selera jangan kecil...   \n",
            "2  1/4 kg ayam--3 buah cabai hijau besar--7 buah ...   \n",
            "3  250 gr daging ayam (saya pakai fillet)--Secuku...   \n",
            "4  400 gr kulit ayam & lemaknya--8 siung bawang p...   \n",
            "\n",
            "                                               Steps Category  \\\n",
            "0  1) Cuci bersih ayam dan tiriskan. Lalu peras j...     ayam   \n",
            "1  1) Haluskan bumbu2nya (BaPut, ketumbar, kemiri...     ayam   \n",
            "2  1) Panaskan minyak di dalam wajan. Setelah min...     ayam   \n",
            "3  1) Goreng ayam seperti ayam krispi\\n2) Ulek se...     ayam   \n",
            "4  1) Cuci bersih kulit ayam. Sisihkan\\n2) Ambil ...     ayam   \n",
            "\n",
            "              Title Cleaned  Total Ingredients  \\\n",
            "0          ayam woku manado                 14   \n",
            "1  ayam goreng tulang lunak                 11   \n",
            "2          ayam cabai kawin                 10   \n",
            "3               ayam geprek                  7   \n",
            "4               minyak ayam                  5   \n",
            "\n",
            "                                 Ingredients Cleaned  Total Steps  \\\n",
            "0  ayam kampung potong , jeruk nipis , garam , ku...            7   \n",
            "1  ayam dipotong , serai , daun jeruk , bawang pu...            5   \n",
            "2  ayam , cabai hijau , cabai merah rawit , bawan...            3   \n",
            "3  daging ayam fillet , gula garam , tepung ayam ...            3   \n",
            "4  kulit ayam & lemaknya , bawang putih , cincang...            6   \n",
            "\n",
            "                                                text  \n",
            "0  ayam woku manado 1 Ekor Ayam Kampung (potong 1...  \n",
            "1  ayam goreng tulang lunak 1 kg ayam (dipotong s...  \n",
            "2  ayam cabai kawin 1/4 kg ayam--3 buah cabai hij...  \n",
            "3  ayam geprek 250 gr daging ayam (saya pakai fil...  \n",
            "4  minyak ayam 400 gr kulit ayam & lemaknya--8 si...  \n"
          ]
        }
      ]
    },
    {
      "cell_type": "markdown",
      "source": [
        "# Pembuatan Matriks TF-IDF dan Penggunaan Stopwords Bahasa Indonesia\n",
        "\n",
        "Pada bagian ini, kita melakukan dua hal utama: pertama, mengunduh stopwords bahasa Indonesia menggunakan **nltk**, dan kedua, kita membangun matriks **TF-IDF** yang digunakan untuk representasi numerik dari teks.\n",
        "\n",
        "### Langkah-langkah:\n",
        "1. **Mengunduh Stopwords Bahasa Indonesia**:\n",
        "   - **Stopwords** adalah kata-kata umum yang tidak memiliki banyak makna dalam konteks analisis teks, seperti \"dan\", \"atau\", \"dengan\". Kita akan menggunakan **nltk** untuk mengunduh stopwords dalam bahasa Indonesia yang akan digunakan untuk membersihkan teks sebelum mengubahnya menjadi fitur numerik.\n",
        "\n",
        "2. **Membuat TF-IDF Vectorizer**:\n",
        "   - **TF-IDF (Term Frequency-Inverse Document Frequency)** adalah metode untuk mengonversi teks menjadi representasi numerik. Metode ini menghitung pentingnya kata dalam dokumen relatif terhadap seluruh korpus dokumen.\n",
        "   - Dalam kode ini, kita membuat objek **TfidfVectorizer** dan memberikan stopwords bahasa Indonesia yang telah diunduh untuk menghilangkan kata-kata yang tidak penting.\n",
        "\n",
        "3. **Fit dan Transform Teks Menjadi Matriks TF-IDF**:\n",
        "   - **Fit** akan menghitung IDF (Inverse Document Frequency) untuk semua kata dalam kolom teks **'text'**.\n",
        "   - **Transform** akan mengonversi kolom **'text'** menjadi matriks TF-IDF, di mana setiap baris merepresentasikan sebuah dokumen (dalam hal ini, resep), dan setiap kolom mewakili kata unik yang ada dalam dokumen.\n",
        "\n",
        "4. **Ukuran Matriks TF-IDF**:\n",
        "   - Setelah matriks **TF-IDF** terbentuk, kita menampilkan ukuran matriks untuk memastikan bahwa data telah berhasil dikonversi menjadi representasi numerik."
      ],
      "metadata": {
        "id": "VyXfz0lu8J2z"
      }
    },
    {
      "cell_type": "code",
      "source": [
        "# SEGMEN 4: Preprocessing Teks\n",
        "print(\"Mengunduh stopwords bahasa Indonesia...\")\n",
        "nltk.download('stopwords')\n",
        "indonesian_stopwords = stopwords.words('indonesian')\n",
        "\n",
        "# Membuat TF-IDF vectorizer dengan stopwords Bahasa Indonesia\n",
        "tfidf_vectorizer = TfidfVectorizer(stop_words=indonesian_stopwords)\n",
        "\n",
        "# Fit transform teks menjadi matriks TF-IDF\n",
        "print(\"Membangun TF-IDF matrix...\")\n",
        "tfidf_matrix = tfidf_vectorizer.fit_transform(df['text'])\n",
        "\n",
        "# Cek ukuran matriks TF-IDF\n",
        "print(f\"Ukuran TF-IDF Matrix: {tfidf_matrix.shape}\")\n",
        "\n",
        "# Membersihkan stopwords dari teks\n",
        "df['text_cleaned'] = df['text'].apply(lambda x: ' '.join([word for word in x.split() if word not in indonesian_stopwords]))\n",
        "\n",
        "# Tampilkan hasil teks yang sudah dibersihkan\n",
        "print(df[['Title', 'text', 'text_cleaned']].head())\n",
        "\n",
        "# Menyimpan DataFrame dengan teks yang sudah dibersihkan ke CSV\n",
        "df[['Title', 'text_cleaned']].to_csv('resep_bersih_dari_stopword.csv', index=False)\n",
        "\n",
        "# Mengunduh file CSV yang berisi teks bersih\n",
        "# files.download('resep_bersih_dari_stopword.csv')"
      ],
      "metadata": {
        "colab": {
          "base_uri": "https://localhost:8080/"
        },
        "id": "NHtMj3Ej8Nfz",
        "outputId": "8e198d87-f38c-4c67-b117-a2323eeddb6e"
      },
      "execution_count": null,
      "outputs": [
        {
          "output_type": "stream",
          "name": "stdout",
          "text": [
            "Mengunduh stopwords bahasa Indonesia...\n",
            "Membangun TF-IDF matrix...\n"
          ]
        },
        {
          "output_type": "stream",
          "name": "stderr",
          "text": [
            "[nltk_data] Downloading package stopwords to /root/nltk_data...\n",
            "[nltk_data]   Unzipping corpora/stopwords.zip.\n",
            "/usr/local/lib/python3.10/dist-packages/sklearn/feature_extraction/text.py:402: UserWarning: Your stop_words may be inconsistent with your preprocessing. Tokenizing the stop words generated tokens ['baiknya', 'berkali', 'kali', 'kurangnya', 'mata', 'olah', 'sekurang', 'setidak', 'tama', 'tidaknya'] not in stop_words.\n",
            "  warnings.warn(\n"
          ]
        },
        {
          "output_type": "stream",
          "name": "stdout",
          "text": [
            "Ukuran TF-IDF Matrix: (14945, 19288)\n",
            "                      Title  \\\n",
            "0          ayam woku manado   \n",
            "1  ayam goreng tulang lunak   \n",
            "2          ayam cabai kawin   \n",
            "3               ayam geprek   \n",
            "4               minyak ayam   \n",
            "\n",
            "                                                text  \\\n",
            "0  ayam woku manado 1 Ekor Ayam Kampung (potong 1...   \n",
            "1  ayam goreng tulang lunak 1 kg ayam (dipotong s...   \n",
            "2  ayam cabai kawin 1/4 kg ayam--3 buah cabai hij...   \n",
            "3  ayam geprek 250 gr daging ayam (saya pakai fil...   \n",
            "4  minyak ayam 400 gr kulit ayam & lemaknya--8 si...   \n",
            "\n",
            "                                        text_cleaned  \n",
            "0  ayam woku manado 1 Ekor Ayam Kampung (potong 1...  \n",
            "1  ayam goreng tulang lunak 1 kg ayam (dipotong s...  \n",
            "2  ayam cabai kawin 1/4 kg ayam--3 buah cabai hij...  \n",
            "3  ayam geprek 250 gr daging ayam (saya pakai fil...  \n",
            "4  minyak ayam 400 gr kulit ayam & lemaknya--8 si...  \n"
          ]
        }
      ]
    },
    {
      "cell_type": "code",
      "source": [
        "# Mendapatkan fitur nama dari TF-IDF vectorizer\n",
        "feature_names = tfidf_vectorizer.get_feature_names_out()\n",
        "\n",
        "# Konversi TF-IDF matrix ke DataFrame\n",
        "tfidf_df = pd.DataFrame(tfidf_matrix.toarray(), columns=feature_names)\n",
        "\n",
        "# Simpan DataFrame ke file CSV\n",
        "tfidf_df.to_csv('tfidf_matrix.csv', index=False)\n",
        "\n",
        "# Mengunduh file CSV tfidf matrix\n",
        "# from google.colab import files\n",
        "# files.download('tfidf_matrix.csv')"
      ],
      "metadata": {
        "id": "c1MMS6IKmm0u"
      },
      "execution_count": null,
      "outputs": []
    },
    {
      "cell_type": "markdown",
      "source": [
        "# Fungsi untuk Rekomendasi Resep\n",
        "\n",
        "Pada bagian ini, kita mendefinisikan fungsi **`recommend_recipe`** yang digunakan untuk memberikan rekomendasi resep berdasarkan masukan dari pengguna. Fungsi ini menggunakan **Cosine Similarity** untuk mencari resep yang paling mirip dengan query (input) pengguna.\n",
        "\n",
        "### Langkah-langkah dalam Fungsi **`recommend_recipe`**:\n",
        "\n",
        "1. **Menerima Input Pengguna**:\n",
        "   - Fungsi ini menerima parameter `query`, yang merupakan input teks dari pengguna yang ingin mencari resep yang relevan.\n",
        "   - Parameter `top_n` menentukan berapa banyak resep yang ingin ditampilkan (default: 5).\n",
        "\n",
        "2. **Transformasi Query Menjadi Matriks TF-IDF**:\n",
        "   - Query pengguna diubah menjadi representasi **TF-IDF** menggunakan **TfidfVectorizer** yang sudah dibangun sebelumnya.\n",
        "\n",
        "3. **Menghitung Cosine Similarity**:\n",
        "   - **Cosine Similarity** dihitung antara **TF-IDF** query dan matriks **TF-IDF** seluruh resep. Ini menghasilkan skor kemiripan antara query dan setiap resep dalam dataset.\n",
        "\n",
        "4. **Menyortir dan Menampilkan 5 Resep Teratas**:\n",
        "   - Skor kemiripan untuk setiap resep diurutkan dari yang tertinggi, dan resep dengan skor kemiripan tertinggi akan dipilih sebagai rekomendasi.\n",
        "   - Top N resep yang paling mirip (berdasarkan skor kemiripan) akan ditampilkan bersama dengan bahan-bahan dan langkah-langkah pembuatan resep.\n",
        "\n",
        "5. **Memformat Output**:\n",
        "   - Setiap resep yang direkomendasikan akan ditampilkan dengan format yang mudah dibaca, termasuk:\n",
        "     - Nama resep (dalam huruf kapital)\n",
        "     - Skor **Cosine Similarity**\n",
        "     - Bahan-bahan (dengan format yang lebih mudah dibaca)\n",
        "     - Langkah-langkah pembuatan resep."
      ],
      "metadata": {
        "id": "2bLOPEG38lRr"
      }
    },
    {
      "cell_type": "code",
      "source": [
        "# SEGMEN 5: Sistem Rekomendasi\n",
        "def recommend_recipe(query, top_n=5):\n",
        "    query_tfidf = tfidf_vectorizer.transform([query.lower()])\n",
        "    cosine_sim = cosine_similarity(query_tfidf, tfidf_matrix)\n",
        "\n",
        "    # Mengambil top N resep yang paling mirip\n",
        "    sim_scores = list(enumerate(cosine_sim[0]))\n",
        "    sim_scores = sorted(sim_scores, key=lambda x: x[1], reverse=True)\n",
        "\n",
        "    # Menampilkan judul resep yang paling relevan dan informasi lengkap\n",
        "    recommended_indexes = [x[0] for x in sim_scores[:top_n]]\n",
        "    recommendations = df.iloc[recommended_indexes][['Title', 'Ingredients', 'Steps']]\n",
        "\n",
        "    result = []\n",
        "    for idx, row in recommendations.iterrows():\n",
        "        recipe_info = f\"\\n{'='*40}\\n\"\n",
        "        recipe_info += f\"{row['Title'].upper()}\\n\"  # Judul resep dalam huruf besar\n",
        "\n",
        "        # Menampilkan skor similarity dengan format yang lebih rapi\n",
        "        similarity_score = sim_scores[recommended_indexes.index(idx)][1]\n",
        "        recipe_info += f\"Similarity Score: {similarity_score:.4f}\\n\"\n",
        "\n",
        "        # Memformat bahan-bahan dengan bullet points\n",
        "        ingredients = row['Ingredients'].replace('--', '- ')\n",
        "        steps = row['Steps'].replace('--', '- ')\n",
        "\n",
        "        recipe_info += \"\\nBahan-bahan:\\n\" + ingredients + \"\\n\"\n",
        "        recipe_info += \"\\nLangkah-langkah:\\n\" + steps + \"\\n\"\n",
        "        result.append(recipe_info)\n",
        "\n",
        "    return result"
      ],
      "metadata": {
        "id": "f1R2SrQC8jhF"
      },
      "execution_count": null,
      "outputs": []
    },
    {
      "cell_type": "code",
      "source": [
        "from sklearn.metrics.pairwise import cosine_similarity\n",
        "\n",
        "# Recalculate the cosine similarity matrix from TF-IDF matrix\n",
        "tfidf_matrix = tfidf_vectorizer.fit_transform(df['text_cleaned'].dropna())\n",
        "cosine_sim_matrix = cosine_similarity(tfidf_matrix)\n",
        "\n",
        "# Extract document indices for top cosine similarity values\n",
        "top_20_indices = np.dstack(np.unravel_index(np.argsort(cosine_sim_matrix.ravel())[::-1], cosine_sim_matrix.shape))[0]\n",
        "\n",
        "# Filter out duplicates and diagonal (self-similarity)\n",
        "top_20_unique = [(i, j) for i, j in top_20_indices if i != j and i < j][:20]\n",
        "\n",
        "# Build a DataFrame showing document pairs and their similarity scores\n",
        "top_20_doc_pairs = pd.DataFrame([\n",
        "    {\"Doc_1\": f\"Doc_{i+1}\", \"Doc_2\": f\"Doc_{j+1}\", \"Similarity\": cosine_sim_matrix[i, j],\n",
        "     \"Doc_1_Content\": df['text_cleaned'].iloc[i], \"Doc_2_Content\": df['text_cleaned'].iloc[j]}\n",
        "    for i, j in top_20_unique\n",
        "])\n",
        "\n",
        "# Display the top 20 document pairs with similarity scores\n",
        "import ace_tools as tools; tools.display_dataframe_to_user(name=\"Top 20 Cosine Similarity Pairs\", dataframe=top_20_doc_pairs)"
      ],
      "metadata": {
        "id": "0Mo6wzBGDZw4"
      },
      "execution_count": null,
      "outputs": []
    },
    {
      "cell_type": "markdown",
      "source": [
        "# Kategorisasi Resep dan Persiapan Data untuk Klasifikasi\n",
        "\n",
        "Pada bagian ini, kita menambahkan kategori untuk setiap resep berdasarkan kata kunci dalam kolom **'Title'** dan mempersiapkan data untuk klasifikasi menggunakan **TF-IDF**.\n",
        "\n",
        "### Langkah-langkah:\n",
        "1. **Membuat Kolom 'Category' Berdasarkan Kata Kunci dalam 'Title'**:\n",
        "   - Fungsi **`categorize_recipe`** digunakan untuk menentukan kategori resep berdasarkan kata kunci yang ada dalam **'Title'**.\n",
        "   - Kategori-kategori yang digunakan adalah: **Ayam**, **Ikan**, **Kambing**, **Sapi**, **Tahu**, **Tempe**, **Udang**, dan **Lainnya** jika kata kunci yang relevan tidak ditemukan dalam judul.\n",
        "   \n",
        "2. **Menambahkan Kolom 'Category' ke Dataset**:\n",
        "   - Fungsi **`apply()`** diterapkan pada kolom **'Title'** untuk membuat kategori resep dan menambahkannya sebagai kolom baru **'Category'** dalam dataset.\n",
        "   \n",
        "3. **Persiapan Data untuk Klasifikasi**:\n",
        "   - Setelah kategori ditambahkan, kita menggunakan **TF-IDF** untuk mengubah kolom **'text'** (gabungan dari **Title**, **Ingredients**, dan **Steps**) menjadi representasi numerik.\n",
        "   - **X** adalah matriks TF-IDF yang akan digunakan sebagai fitur untuk pelatihan model.\n",
        "   - **y** adalah label kategori yang ingin diprediksi oleh model.\n",
        "   \n",
        "4. **Membagi Data Menjadi Training dan Testing Set**:\n",
        "   - Kita membagi dataset menjadi dua bagian: data **training** (80%) dan data **testing** (20%) menggunakan **train_test_split** dari **sklearn**.\n",
        "   - **X_train** dan **y_train** digunakan untuk melatih model, sedangkan **X_test** dan **y_test** digunakan untuk evaluasi model."
      ],
      "metadata": {
        "id": "4jAkKmO68wxD"
      }
    },
    {
      "cell_type": "code",
      "source": [
        "# SEGMEN 6: Kategorisasi Resep\n",
        "def categorize_recipe(title):\n",
        "    if 'ayam' in title:\n",
        "        return 'Ayam'\n",
        "    elif 'ikan' in title:\n",
        "        return 'Ikan'\n",
        "    elif 'kambing' in title:\n",
        "        return 'Kambing'\n",
        "    elif 'sapi' in title:\n",
        "        return 'Sapi'\n",
        "    elif 'tahu' in title:\n",
        "        return 'Tahu'\n",
        "    elif 'tempe' in title:\n",
        "        return 'Tempe'\n",
        "    elif 'udang' in title:\n",
        "        return 'Udang'\n",
        "    else:\n",
        "        return 'Lainnya'\n",
        "\n",
        "# Menambahkan kolom 'Category' ke dataset\n",
        "print(\"Menambahkan kategori ke data...\")\n",
        "df['Category'] = df['Title'].apply(categorize_recipe)\n",
        "\n",
        "# Cek apakah kolom Category berhasil ditambahkan\n",
        "print(df[['Title', 'Category']].head())\n",
        "\n",
        "# Menggunakan TF-IDF untuk klasifikasi\n",
        "X = tfidf_vectorizer.fit_transform(df['text'])\n",
        "y = df['Category']  # Label kategorinya\n",
        "\n",
        "# Membagi data menjadi training dan testing set\n",
        "print(\"Membagi data menjadi training dan testing set...\")\n",
        "X_train, X_test, y_train, y_test = train_test_split(X, y, test_size=0.2, random_state=42)"
      ],
      "metadata": {
        "colab": {
          "base_uri": "https://localhost:8080/"
        },
        "id": "o7Gqjl6_8ylL",
        "outputId": "6403156b-adc0-4860-a56d-4b10713c3c88"
      },
      "execution_count": null,
      "outputs": [
        {
          "output_type": "stream",
          "name": "stdout",
          "text": [
            "Menambahkan kategori ke data...\n",
            "                      Title Category\n",
            "0          ayam woku manado     Ayam\n",
            "1  ayam goreng tulang lunak     Ayam\n",
            "2          ayam cabai kawin     Ayam\n",
            "3               ayam geprek     Ayam\n",
            "4               minyak ayam     Ayam\n",
            "Membagi data menjadi training dan testing set...\n"
          ]
        }
      ]
    },
    {
      "cell_type": "markdown",
      "source": [
        "\n",
        "\n",
        "```\n",
        "# This is formatted as code\n",
        "```\n",
        "\n",
        "# Melatih Model SVM dan Evaluasi Lengkap\n",
        "\n",
        "Pada bagian ini, kita melatih dua model klasifikasi **SVM (Support Vector Machine)** dengan menambahkan **progress bar** menggunakan **tqdm** untuk menampilkan status pelatihan secara visual. Selain itu, kita juga memberikan evaluasi lengkap menggunakan **classification_report** dari **sklearn** untuk menilai kinerja model.\n",
        "\n",
        "### Langkah-langkah dalam Proses:\n",
        "1. **Pelatihan Model SVM (Support Vector Machine)**:\n",
        "   - **SVM** adalah algoritma pembelajaran mesin untuk tugas klasifikasi. Dalam kode ini, kita menggunakan kernel linear, yang merupakan metode yang baik untuk data yang dapat dipisahkan secara linier.\n",
        "   - Sebelum pelatihan dimulai, kita menambahkan **progress bar** menggunakan **tqdm** yang menunjukkan kemajuan pelatihan model SVM. **Progress bar** ini memberi indikasi visual bahwa proses pelatihan sedang berlangsung.\n",
        "\n",
        "2. **Evaluasi Model**:\n",
        "   - Setelah kedua model dilatih, kita menggunakan **X_test** untuk memprediksi kategori resep. Kemudian, kita menghitung **accuracy** (akurasi) menggunakan **accuracy_score** dari **sklearn**.\n",
        "   - Untuk hasil evaluasi yang lebih lengkap, kita menggunakan **classification_report** dari **sklearn**, yang memberikan metrik seperti **precision**, **recall**, **f1-score**, dan **support** untuk masing-masing kelas (kategori resep)."
      ],
      "metadata": {
        "id": "QhQI-TkV87yr"
      }
    },
    {
      "cell_type": "code",
      "source": [
        "# SEGMEN 7: Pelatihan Model\n",
        "from sklearn.metrics import classification_report\n",
        "from tqdm import tqdm\n",
        "\n",
        "# Menambahkan progress bar untuk proses pelatihan SVM\n",
        "print(\"Melatih model SVM...\")\n",
        "svm_model = SVC(kernel='linear')\n",
        "\n",
        "# Proses pelatihan dengan progress bar\n",
        "for _ in tqdm(range(1), desc=\"Training SVM\"):\n",
        "    svm_model.fit(X_train, y_train)\n",
        "\n",
        "# Prediksi dengan model SVM\n",
        "y_pred_svm = svm_model.predict(X_test)\n",
        "svm_accuracy = accuracy_score(y_test, y_pred_svm)\n",
        "\n",
        "# Menampilkan hasil evaluasi model secara lengkap\n",
        "print(\"\\nEvaluasi Model SVM:\")\n",
        "print(f\"SVM Accuracy: {svm_accuracy:.4f}\")\n",
        "print(classification_report(y_test, y_pred_svm))"
      ],
      "metadata": {
        "colab": {
          "base_uri": "https://localhost:8080/"
        },
        "id": "AsDsRt8o8-Sj",
        "outputId": "36560cb9-6e58-47c1-e2b9-e592813029b0"
      },
      "execution_count": null,
      "outputs": [
        {
          "output_type": "stream",
          "name": "stdout",
          "text": [
            "Melatih model SVM...\n"
          ]
        },
        {
          "output_type": "stream",
          "name": "stderr",
          "text": [
            "Training SVM: 100%|██████████| 1/1 [00:40<00:00, 40.91s/it]\n"
          ]
        },
        {
          "output_type": "stream",
          "name": "stdout",
          "text": [
            "\n",
            "Evaluasi Model SVM:\n",
            "SVM Accuracy: 0.8806\n",
            "              precision    recall  f1-score   support\n",
            "\n",
            "        Ayam       0.93      0.93      0.93       409\n",
            "        Ikan       0.72      0.73      0.72       166\n",
            "     Kambing       0.91      0.98      0.94       303\n",
            "     Lainnya       0.82      0.84      0.83       702\n",
            "        Sapi       0.94      0.94      0.94       306\n",
            "        Tahu       0.91      0.70      0.79       428\n",
            "       Tempe       0.89      0.98      0.93       336\n",
            "       Udang       0.90      0.97      0.93       339\n",
            "\n",
            "    accuracy                           0.88      2989\n",
            "   macro avg       0.88      0.88      0.88      2989\n",
            "weighted avg       0.88      0.88      0.88      2989\n",
            "\n"
          ]
        }
      ]
    },
    {
      "cell_type": "code",
      "source": [
        "# Support Vectors\n",
        "print(\"Support Vectors:\")\n",
        "print(svm_model.support_vectors_)\n",
        "print(f\"Jumlah Support Vectors per Kelas: {svm_model.n_support_}\")"
      ],
      "metadata": {
        "id": "qYVO3AH35HQT",
        "outputId": "62f08582-a4bf-4bed-966b-c03f823d7719",
        "colab": {
          "base_uri": "https://localhost:8080/"
        }
      },
      "execution_count": null,
      "outputs": [
        {
          "output_type": "stream",
          "name": "stdout",
          "text": [
            "Support Vectors:\n",
            "  (0, 17)\t0.03790218512202866\n",
            "  (0, 18)\t0.028849562611946905\n",
            "  (0, 246)\t0.030132707747317657\n",
            "  (0, 393)\t0.03500492802830904\n",
            "  (0, 910)\t0.021919650231913525\n",
            "  (0, 1244)\t0.020328697389370234\n",
            "  (0, 1410)\t0.17249306002711698\n",
            "  (0, 1610)\t0.04252471347605468\n",
            "  (0, 1823)\t0.07042833845949285\n",
            "  (0, 2598)\t0.041998346525528994\n",
            "  (0, 2800)\t0.0270291111406269\n",
            "  (0, 2832)\t0.14188143449004464\n",
            "  (0, 2917)\t0.02327437884693567\n",
            "  (0, 3098)\t0.1159455194523893\n",
            "  (0, 3211)\t0.03942396275973667\n",
            "  (0, 3220)\t0.057563174895485035\n",
            "  (0, 3894)\t0.035390107432791994\n",
            "  (0, 4286)\t0.025330598557156875\n",
            "  (0, 4575)\t0.056038776714909457\n",
            "  (0, 5105)\t0.025977346105598077\n",
            "  (0, 5365)\t0.04316525269090607\n",
            "  (0, 5876)\t0.07919915932247679\n",
            "  (0, 6208)\t0.027705671735909865\n",
            "  (0, 6364)\t0.06906964177382087\n",
            "  (0, 6520)\t0.0356538695877061\n",
            "  :\t:\n",
            "  (5890, 10960)\t0.12552900400280903\n",
            "  (5890, 11150)\t0.14407370088122287\n",
            "  (5890, 11421)\t0.1280200920521953\n",
            "  (5890, 11598)\t0.10551078201616701\n",
            "  (5890, 11781)\t0.030994072842157525\n",
            "  (5890, 12055)\t0.09489607107441032\n",
            "  (5890, 13498)\t0.19013322090603524\n",
            "  (5890, 14257)\t0.044347260758862264\n",
            "  (5890, 14457)\t0.038311859408429814\n",
            "  (5890, 15289)\t0.03996450808192006\n",
            "  (5890, 15668)\t0.05993721192271477\n",
            "  (5890, 15716)\t0.041082331407387734\n",
            "  (5890, 15989)\t0.23710926930536727\n",
            "  (5890, 16030)\t0.04162368368592474\n",
            "  (5890, 16304)\t0.08847997186436209\n",
            "  (5890, 16418)\t0.056604531735816935\n",
            "  (5890, 17163)\t0.1592212092947379\n",
            "  (5890, 17202)\t0.03398121227315343\n",
            "  (5890, 17997)\t0.05275529271211839\n",
            "  (5890, 18108)\t0.1285689864664755\n",
            "  (5890, 18159)\t0.3592421601934812\n",
            "  (5890, 18360)\t0.0576867088859628\n",
            "  (5890, 18499)\t0.34090596964474906\n",
            "  (5890, 18540)\t0.11599497516913572\n",
            "  (5890, 19143)\t0.04048686360032347\n",
            "Jumlah Support Vectors per Kelas: [ 538  469  393 1885  526 1193  479  408]\n"
          ]
        }
      ]
    },
    {
      "cell_type": "code",
      "source": [
        "# Koefisien Hyperplane (w)\n",
        "print(\"Koefisien Hyperplane (w):\")\n",
        "print(svm_model.coef_)\n"
      ],
      "metadata": {
        "id": "HIsyLkOx5I3s",
        "outputId": "5b2fdbba-c1f3-49d0-eb47-2eefa6912dc6",
        "colab": {
          "base_uri": "https://localhost:8080/"
        }
      },
      "execution_count": null,
      "outputs": [
        {
          "output_type": "stream",
          "name": "stdout",
          "text": [
            "Koefisien Hyperplane (w):\n",
            "  (0, 12449)\t-0.3205735001425027\n",
            "  (0, 7307)\t-0.12998714322820704\n",
            "  (0, 7890)\t-0.6011352044971875\n",
            "  (0, 10355)\t-0.10273968286217214\n",
            "  (0, 13414)\t-0.03413507201759926\n",
            "  (0, 142)\t-0.0028294498838147253\n",
            "  (0, 5213)\t-0.11865465577832421\n",
            "  (0, 2225)\t-0.056701346028129214\n",
            "  (0, 19065)\t-0.049443734403486664\n",
            "  (0, 10615)\t-0.2739328149599025\n",
            "  (0, 8492)\t-0.3581540503085074\n",
            "  (0, 9703)\t-0.08325443065768359\n",
            "  (0, 11776)\t-0.011205809686573982\n",
            "  (0, 3174)\t-0.15088913768824122\n",
            "  (0, 8594)\t-0.06472041786273507\n",
            "  (0, 15576)\t-0.06124529865878166\n",
            "  (0, 620)\t-0.014034375934897316\n",
            "  (0, 12920)\t-0.0320283697484273\n",
            "  (0, 15969)\t-0.10172599261033813\n",
            "  (0, 16125)\t-0.010888695895565959\n",
            "  (0, 3860)\t-0.08071539514697698\n",
            "  (0, 8652)\t-0.05046399627491769\n",
            "  (0, 7502)\t-0.06643691435530344\n",
            "  (0, 13104)\t-0.2476418354967837\n",
            "  (0, 5604)\t-0.08923511165589569\n",
            "  :\t:\n",
            "  (27, 10703)\t0.0456030056949669\n",
            "  (27, 17543)\t0.0398434071046963\n",
            "  (27, 18526)\t0.0456030056949669\n",
            "  (27, 2744)\t0.002711194380445629\n",
            "  (27, 10347)\t0.0074652541177638735\n",
            "  (27, 17101)\t0.0025217350674081444\n",
            "  (27, 17783)\t0.005200735573812619\n",
            "  (27, 18130)\t0.0020319898477938556\n",
            "  (27, 18609)\t0.002711194380445629\n",
            "  (27, 6459)\t0.015956162604303013\n",
            "  (27, 3909)\t0.04093600237228436\n",
            "  (27, 4263)\t0.04093600237228436\n",
            "  (27, 5850)\t0.1280420333021666\n",
            "  (27, 15882)\t0.16374400948913745\n",
            "  (27, 3007)\t0.21812626978788482\n",
            "  (27, 3795)\t0.21812626978788482\n",
            "  (27, 9714)\t0.17382870154423918\n",
            "  (27, 10425)\t0.19396708550221012\n",
            "  (27, 10704)\t0.020811615877901094\n",
            "  (27, 10904)\t0.014057945411206368\n",
            "  (27, 12624)\t0.020811615877901094\n",
            "  (27, 13748)\t0.07555641768013092\n",
            "  (27, 14057)\t0.019960891005338658\n",
            "  (27, 14321)\t0.014943657429303387\n",
            "  (27, 16919)\t0.020811615877901094\n"
          ]
        }
      ]
    },
    {
      "cell_type": "code",
      "source": [
        "# Bias (Intercept)\n",
        "print(\"Bias (b):\")\n",
        "print(svm_model.intercept_)"
      ],
      "metadata": {
        "id": "r4jScNog5J0n",
        "outputId": "79311465-0c6d-4850-ca1c-e10eaec7ccc8",
        "colab": {
          "base_uri": "https://localhost:8080/"
        }
      },
      "execution_count": null,
      "outputs": [
        {
          "output_type": "stream",
          "name": "stdout",
          "text": [
            "Bias (b):\n",
            "[ 0.1491319   0.19287896 -0.90999338 -0.04595037 -0.7007276   0.02182512\n",
            "  0.03943438  0.07612438 -1.36656004 -0.2177688  -0.63067973 -0.01738683\n",
            " -0.05077623 -1.40097725 -0.25977215 -0.75240654 -0.0103513  -0.09252663\n",
            "  0.83396174  0.28045976  0.87804784  0.85282656 -0.54647193  0.22099941\n",
            "  0.19621385  0.77592091  0.58571643 -0.32038088]\n"
          ]
        }
      ]
    },
    {
      "cell_type": "markdown",
      "source": [
        "# Evaluasi Model Menggunakan Cosine Similarity\n",
        "\n",
        "Pada bagian ini, kita melakukan evaluasi terhadap model yang telah dilatih (SVM dan Random Forest) dengan menggunakan **Cosine Similarity**. Tujuannya adalah untuk mengukur seberapa baik model dapat merekomendasikan resep yang relevan dengan resep yang diberikan dalam **test set**.\n",
        "\n",
        "### Langkah-langkah dalam Evaluasi Model:\n",
        "1. **Membuat DataFrame untuk Test Set**:\n",
        "   - Kita membuat **`test_df`** yang berisi data uji (test set) dengan menambahkan kolom **'Title'** dan **'Category'** dari **X_test** dan **y_test** yang telah dibagi sebelumnya. Kolom **'Title'** adalah nama resep dan **'Category'** adalah kategori yang sesuai.\n",
        "\n",
        "2. **Menghitung Cosine Similarity untuk Evaluasi**:\n",
        "   - Fungsi **`evaluate_model`** digunakan untuk mengevaluasi model berdasarkan **Cosine Similarity**. Setiap resep dalam **test_df** akan diproses menggunakan **recommend_recipe** untuk mendapatkan rekomendasi resep yang relevan.\n",
        "   - Skor **Cosine Similarity** dihitung untuk setiap resep yang direkomendasikan, dan kemudian dihitung rata-ratanya untuk memberikan gambaran umum tentang seberapa baik model dalam merekomendasikan resep yang relevan.\n",
        "\n",
        "3. **Visualisasi Distribusi Cosine Similarity**:\n",
        "   - Setelah menghitung similarity, kita membuat **histogram** untuk menampilkan distribusi nilai **Cosine Similarity** pada data uji. Histogram ini akan memberi gambaran tentang seberapa konsisten rekomendasi yang diberikan oleh model."
      ],
      "metadata": {
        "id": "l35hj6pV9Jvj"
      }
    },
    {
      "cell_type": "code",
      "source": [
        "# SEGMEN 8: Evaluasi Model dan Visualisasi\n",
        "# Membuat DataFrame untuk test set\n",
        "test_df = pd.DataFrame(X_test.toarray(), columns=tfidf_vectorizer.get_feature_names_out())\n",
        "test_df['Title'] = df.iloc[y_test.index]['Title'].reset_index(drop=True)  # Menambahkan 'Title' dari df asli\n",
        "test_df['Category'] = y_test.reset_index(drop=True)  # Menambahkan 'Category' untuk label target\n",
        "\n",
        "# Evaluasi model dengan cosine similarity\n",
        "def evaluate_model(test_df):\n",
        "    similarities = []  # List untuk menyimpan nilai similarity\n",
        "    for query in test_df['Title']:\n",
        "        recommended = recommend_recipe(query)\n",
        "        for recipe in recommended:\n",
        "            # Ambil similarity score dari output rekomendasi\n",
        "            score = float(recipe.split('Similarity Score: ')[1].split()[0])\n",
        "            similarities.append(score)\n",
        "    average_similarity = np.mean(similarities)\n",
        "    return average_similarity, similarities  # Kembalikan rata-rata dan list similarity\n",
        "\n",
        "# Evaluasi model\n",
        "print(\"Evaluasi model berdasarkan cosine similarity...\")\n",
        "average_similarity, similarities = evaluate_model(test_df)  # Mendapatkan similarities\n",
        "print(f\"Average Cosine Similarity for Test Set: {average_similarity:.4f}\")\n",
        "\n",
        "# Visualisasi distribusi similarity scores\n",
        "plt.figure(figsize=(10, 6))\n",
        "sns.histplot(similarities, kde=True, color='blue')  # Menggunakan similarities untuk grafik\n",
        "plt.title(\"Distribusi Cosine Similarity Scores\")\n",
        "plt.xlabel(\"Similarity Score\")\n",
        "plt.ylabel(\"Frequency\")\n",
        "plt.show()"
      ],
      "metadata": {
        "colab": {
          "base_uri": "https://localhost:8080/",
          "height": 600
        },
        "id": "zqKqiFjK9I8T",
        "outputId": "a49e6375-74e5-4546-9b17-55c7c0eb3a92"
      },
      "execution_count": null,
      "outputs": [
        {
          "output_type": "stream",
          "name": "stdout",
          "text": [
            "Evaluasi model berdasarkan cosine similarity...\n",
            "Average Cosine Similarity for Test Set: 0.4819\n"
          ]
        },
        {
          "output_type": "display_data",
          "data": {
            "text/plain": [
              "<Figure size 1000x600 with 1 Axes>"
            ],
            "image/png": "[encoded data removed]"
          },
          "metadata": {}
        }
      ]
    },
    {
      "cell_type": "markdown",
      "source": [
        "# Menambahkan Input Interaktif untuk Pengguna\n",
        "\n",
        "Pada bagian ini, kita menambahkan fitur input interaktif di Google Colab untuk memungkinkan pengguna mencari resep berdasarkan masukan teks. Dengan menggunakan antarmuka interaktif, pengguna dapat memasukkan nama resep dan mendapatkan rekomendasi resep yang paling relevan.\n",
        "\n",
        "### Langkah-langkah:\n",
        "1. **Fungsi `interactive_recommendation`**:\n",
        "   - Fungsi ini menerima parameter `query`, yang merupakan input dari pengguna (misalnya, nama resep yang ingin dicari).\n",
        "   - Fungsi ini kemudian memanggil **`recommend_recipe`**, yang akan memberikan 5 resep teratas yang paling relevan berdasarkan **Cosine Similarity**.\n",
        "   - Setiap resep yang direkomendasikan akan ditampilkan dengan informasi lengkap seperti nama resep, bahan-bahan, langkah-langkah pembuatan, dan skor **Cosine Similarity**.\n",
        "\n",
        "2. **Menampilkan Widget Input**:\n",
        "   - **`ipywidgets.interact`** digunakan untuk menampilkan widget input interaktif yang memungkinkan pengguna untuk memasukkan nama resep.\n",
        "   - Pengguna dapat mengetikkan nama resep (misalnya, \"Ayam Goreng\") dan sistem akan memberikan rekomendasi resep yang paling relevan."
      ],
      "metadata": {
        "id": "oYd7EBag9SI3"
      }
    },
    {
      "cell_type": "code",
      "source": [
        "# SEGMEN 9: Rekomendasi Interaktif\n",
        "# Menambahkan input interaktif untuk pengguna\n",
        "def interactive_recommendation(query):\n",
        "    recommended_recipes = recommend_recipe(query)\n",
        "    print(\"Rekomendasi resep:\")\n",
        "    for recipe in recommended_recipes:\n",
        "        print(recipe)\n",
        "\n",
        "# Menampilkan widget input\n",
        "interact(interactive_recommendation, query=\"Ayam Goreng\")"
      ],
      "metadata": {
        "colab": {
          "base_uri": "https://localhost:8080/",
          "height": 1000,
          "referenced_widgets": [
            "fb62b75f01414522ad876d1b7118df58",
            "ab855eac78de4c63953a42a94bc647d5",
            "f481c044b0d84496bb8311bf2429e7f5",
            "569e0cab9b1347f89e5ea445d3813b70",
            "5696271f649245d4b2369af5a30bde2a",
            "81ceb79e372843a0969741a9b16ab808",
            "43e72d8f3a4f4d12bfc163fcd4ddae3d"
          ]
        },
        "id": "tYCPLrd59R8k",
        "outputId": "a199c871-9b05-4bd2-e904-e5b279cf6b76"
      },
      "execution_count": null,
      "outputs": [
        {
          "output_type": "display_data",
          "data": {
            "text/plain": [
              "interactive(children=(Text(value='Ayam Goreng', description='query'), Output()), _dom_classes=('widget-interac…"
            ],
            "application/vnd.jupyter.widget-view+json": {
              "version_major": 2,
              "version_minor": 0,
              "model_id": "fb62b75f01414522ad876d1b7118df58"
            }
          },
          "metadata": {}
        },
        {
          "output_type": "execute_result",
          "data": {
            "text/plain": [
              "<function __main__.interactive_recommendation(query)>"
            ],
            "text/html": [
              "<div style=\"max-width:800px; border: 1px solid var(--colab-border-color);\"><style>\n",
              "      pre.function-repr-contents {\n",
              "        overflow-x: auto;\n",
              "        padding: 8px 12px;\n",
              "        max-height: 500px;\n",
              "      }\n",
              "\n",
              "      pre.function-repr-contents.function-repr-contents-collapsed {\n",
              "        cursor: pointer;\n",
              "        max-height: 100px;\n",
              "      }\n",
              "    </style>\n",
              "    <pre style=\"white-space: initial; background:\n",
              "         var(--colab-secondary-surface-color); padding: 8px 12px;\n",
              "         border-bottom: 1px solid var(--colab-border-color);\"><b>interactive_recommendation</b><br/>def interactive_recommendation(query)</pre><pre class=\"function-repr-contents function-repr-contents-collapsed\" style=\"\"><a class=\"filepath\" style=\"display:none\" href=\"#\">/content/&lt;ipython-input-18-56f6877f790c&gt;</a>&lt;no docstring&gt;</pre></div>"
            ]
          },
          "metadata": {},
          "execution_count": 18
        }
      ]
    },
    {
      "cell_type": "markdown",
      "source": [
        "# Menyimpan Model dan Dataframe ke File\n",
        "\n",
        "Pada bagian ini, kita menyimpan beberapa objek yang telah diproses dan dilatih dalam proyek ini ke dalam file agar dapat digunakan kembali di masa depan tanpa perlu melakukan pelatihan ulang. Objek yang disimpan meliputi **TF-IDF Vectorizer**, **SVM Model**, **Random Forest Model**, dan **DataFrame** yang telah diproses.\n",
        "\n",
        "### Langkah-langkah Menyimpan Model dan Dataframe:\n",
        "1. **Menyimpan Model TF-IDF**:\n",
        "   - **TF-IDF Vectorizer** yang telah digunakan untuk mengonversi teks menjadi representasi numerik disimpan menggunakan **pickle**. Ini memungkinkan kita untuk menggunakan kembali model ini tanpa perlu mengulang proses pembuatan TF-IDF dari awal.\n",
        "   - File disimpan dengan nama **`tfidf_vectorizer.pkl`**.\n",
        "\n",
        "2. **Menyimpan Model SVM**:\n",
        "   - Model **SVM (Support Vector Machine)** yang telah dilatih disimpan dalam file **`svm_model.pkl`** menggunakan **pickle**.\n",
        "   - Ini memungkinkan kita untuk memuat model ini di kemudian hari untuk melakukan prediksi tanpa perlu melatih ulang model.\n",
        "\n",
        "3. **Menyimpan Model Random Forest**:\n",
        "   - Model **Random Forest** yang telah dilatih disimpan dalam file **`rf_model.pkl`**. Sama seperti model SVM, ini memungkinkan kita untuk menggunakan model tersebut tanpa perlu melatihnya kembali.\n",
        "\n",
        "4. **Menyimpan DataFrame yang Sudah Diproses**:\n",
        "   - **DataFrame** yang berisi semua data resep yang telah diproses disimpan dalam format **CSV** menggunakan **pandas**. File ini disimpan dengan nama **`resep_masakan_indonesia.csv`**. Data ini dapat digunakan untuk analisis atau pemodelan di masa depan."
      ],
      "metadata": {
        "id": "S3u_yzhDS9Mn"
      }
    },
    {
      "cell_type": "code",
      "source": [
        "# SEGMEN 10: Menyimpan Model dan Data\n",
        "# Menyimpan model TF-IDF ke file\n",
        "with open('tfidf_vectorizer.pkl', 'wb') as f:\n",
        "    pickle.dump(tfidf_vectorizer, f)\n",
        "\n",
        "# Menyimpan model SVM dan Random Forest\n",
        "with open('svm_model.pkl', 'wb') as f:\n",
        "    pickle.dump(svm_model, f)\n",
        "\n",
        "with open('rf_model.pkl', 'wb') as f:\n",
        "    pickle.dump(rf_model, f)"
      ],
      "metadata": {
        "id": "vxdL1WZF-w3r"
      },
      "execution_count": null,
      "outputs": []
    },
    {
      "cell_type": "code",
      "source": [
        "# Menyimpan dataframe yang sudah diproses\n",
        "df.to_csv('resep_masakan_indonesia.csv', index=False)\n",
        "\n",
        "# Mengunduh file CSV yang telah diproses\n",
        "files.download('resep_masakan_indonesia.csv')"
      ],
      "metadata": {
        "id": "E71xjiwbC96x",
        "outputId": "f4b7bdd1-4b53-4096-8af7-38a0e70f2906",
        "colab": {
          "base_uri": "https://localhost:8080/",
          "height": 17
        }
      },
      "execution_count": null,
      "outputs": [
        {
          "output_type": "display_data",
          "data": {
            "text/plain": [
              "<IPython.core.display.Javascript object>"
            ],
            "application/javascript": [
              "\n",
              "    async function download(id, filename, size) {\n",
              "      if (!google.colab.kernel.accessAllowed) {\n",
              "        return;\n",
              "      }\n",
              "      const div = document.createElement('div');\n",
              "      const label = document.createElement('label');\n",
              "      label.textContent = `Downloading \"${filename}\": `;\n",
              "      div.appendChild(label);\n",
              "      const progress = document.createElement('progress');\n",
              "      progress.max = size;\n",
              "      div.appendChild(progress);\n",
              "      document.body.appendChild(div);\n",
              "\n",
              "      const buffers = [];\n",
              "      let downloaded = 0;\n",
              "\n",
              "      const channel = await google.colab.kernel.comms.open(id);\n",
              "      // Send a message to notify the kernel that we're ready.\n",
              "      channel.send({})\n",
              "\n",
              "      for await (const message of channel.messages) {\n",
              "        // Send a message to notify the kernel that we're ready.\n",
              "        channel.send({})\n",
              "        if (message.buffers) {\n",
              "          for (const buffer of message.buffers) {\n",
              "            buffers.push(buffer);\n",
              "            downloaded += buffer.byteLength;\n",
              "            progress.value = downloaded;\n",
              "          }\n",
              "        }\n",
              "      }\n",
              "      const blob = new Blob(buffers, {type: 'application/binary'});\n",
              "      const a = document.createElement('a');\n",
              "      a.href = window.URL.createObjectURL(blob);\n",
              "      a.download = filename;\n",
              "      div.appendChild(a);\n",
              "      a.click();\n",
              "      div.remove();\n",
              "    }\n",
              "  "
            ]
          },
          "metadata": {}
        },
        {
          "output_type": "display_data",
          "data": {
            "text/plain": [
              "<IPython.core.display.Javascript object>"
            ],
            "application/javascript": [
              "download(\"download_9acc1d0a-3725-4f97-9c32-f6b14f3cf4b7\", \"resep_masakan_indonesia.csv\", 36858782)"
            ]
          },
          "metadata": {}
        }
      ]
    }
  ]
}